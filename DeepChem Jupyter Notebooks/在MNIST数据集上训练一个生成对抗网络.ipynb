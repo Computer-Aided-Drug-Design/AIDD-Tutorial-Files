{
 "cells": [
  {
   "cell_type": "markdown",
   "metadata": {
    "colab_type": "text",
    "id": "_PGI_Rvgr0bo"
   },
   "source": [
    "#  在MNIST数据集上训练一个生成对抗网络\n",
    "\n",
    "\n",
    "在本教程中，我们将在 MNIST 数据集上训练一个生成对抗网络（GAN）。这是一个手写数字的28x28像素图像的大集合。我们将尝试训练一个网络来生成新的手写数字图像。\n",
    "\n",
    "\n",
    "## Colab\n",
    "\n",
    "This tutorial and the rest in this sequence are designed to be done in Google colab. If you'd like to open this notebook in colab, you can use the following link.\n",
    "\n",
    "[![Open In Colab](https://colab.research.google.com/assets/colab-badge.svg)](https://colab.research.google.com/github/deepchem/deepchem/blob/master/examples/tutorials/Training_a_Generative_Adversarial_Network_on_MNIST.ipynb)\n",
    "\n"
   ]
  },
  {
   "cell_type": "code",
   "execution_count": null,
   "metadata": {
    "colab": {
     "base_uri": "https://localhost:8080/",
     "height": 188
    },
    "colab_type": "code",
    "id": "cyXeZ5zTFkah",
    "outputId": "521d8d0b-3bbd-41ef-cb5f-06587d2679f8"
   },
   "outputs": [],
   "source": [
    "!pip install --pre deepchem\n",
    "import deepchem\n",
    "deepchem.__version__"
   ]
  },
  {
   "cell_type": "markdown",
   "metadata": {
    "colab_type": "text",
    "id": "06xelFpir0b6"
   },
   "source": [
    "首先，让我们导入所有需要的库并加载数据集（它与 Tensorflow 捆绑在一起）。"
   ]
  },
  {
   "cell_type": "code",
   "execution_count": 1,
   "metadata": {
    "colab": {},
    "colab_type": "code",
    "id": "23zZTDoar0b7"
   },
   "outputs": [],
   "source": [
    "import deepchem as dc\n",
    "import tensorflow as tf\n",
    "from deepchem.models.optimizers import ExponentialDecay\n",
    "from tensorflow.keras.layers import Conv2D, Conv2DTranspose, Dense, Reshape\n",
    "import matplotlib.pyplot as plot\n",
    "import matplotlib.gridspec as gridspec\n",
    "%matplotlib inline\n",
    "\n",
    "mnist = tf.keras.datasets.mnist.load_data(path='mnist.npz')\n",
    "images = mnist[0][0].reshape((-1, 28, 28, 1))/255\n",
    "dataset = dc.data.NumpyDataset(images)"
   ]
  },
  {
   "cell_type": "markdown",
   "metadata": {
    "colab_type": "text",
    "id": "qijPRZXOr0cI"
   },
   "source": [
    "让我们来看看其中的一些图片，了解一下它们的样子。"
   ]
  },
  {
   "cell_type": "code",
   "execution_count": 2,
   "metadata": {
    "colab": {},
    "colab_type": "code",
    "id": "mmhulNHor0cK"
   },
   "outputs": [
    {
     "data": {
      "image/png": "[encoded data removed]",
      "text/plain": [
       "<Figure size 216x216 with 16 Axes>"
      ]
     },
     "metadata": {},
     "output_type": "display_data"
    }
   ],
   "source": [
    "def plot_digits(im):\n",
    "  plot.figure(figsize=(3, 3))\n",
    "  grid = gridspec.GridSpec(4, 4, wspace=0.05, hspace=0.05)\n",
    "  for i, g in enumerate(grid):\n",
    "    ax = plot.subplot(g)\n",
    "    ax.set_xticks([])\n",
    "    ax.set_yticks([])\n",
    "    ax.imshow(im[i,:,:,0], cmap='gray')\n",
    "\n",
    "plot_digits(images)"
   ]
  },
  {
   "cell_type": "markdown",
   "metadata": {
    "colab_type": "text",
    "id": "rVeSdnNJr0cV"
   },
   "source": [
    "现在我们可以创建 GAN 了。和上一篇教程一样，它由两部分组成:\n",
    "\n",
    "1. 生成器会把随机噪声作为输入，并试图产生与训练数据相似的输出。\n",
    "2. 判别器接受一组样本作为输入（可能是训练数据，可能是生成器创建的），并试图确定哪些是哪些。\n",
    "\n",
    "这次我们将使用一种不同风格的 GAN，称为 Wasserstein GAN （或简称WGAN）。在许多情况下，它们被发现比传统的 GANs 产生更好的结果。两者之间的主要区别在于判别器（在这种情况下通常称为“批评家”）。它试图学习如何测量训练数据集分布和生成数据集分布之间的距离，而不是输出样本作为真实训练数据的概率。然后，该测量方法可以直接用来作为训练生成器的损失函数。\n",
    "\n",
    "我们使用一个非常简单的模型。该生成器使用一个密集层将噪声输入转换为一个具有8通道的7x7图像。接下来是两个卷积层，首先升采样到14x14，最后升采样到28x28。\n",
    "\n",
    "判别器反向执行大致相同的操作。两个卷积层降采样图像，首先到14x14，然后到7x7。最后一个密集层产生一个数字作为输出。在上一篇教程中，我们使用了 sigmoid 激活来生成一个0到1之间的数字，它可以被解释为概率。由于这是一个 WGAN ，因此我们使用 [softplus](https://blog.csdn.net/hy592070616/article/details/120623303) 激活函数。它产生一个无界正数，可以解释为一个距离。"
   ]
  },
  {
   "cell_type": "code",
   "execution_count": 3,
   "metadata": {
    "colab": {},
    "colab_type": "code",
    "id": "8zLMNX5Xr0cW",
    "scrolled": true
   },
   "outputs": [],
   "source": [
    "class DigitGAN(dc.models.WGAN):\n",
    "\n",
    "  def get_noise_input_shape(self):\n",
    "    return (10,)\n",
    "\n",
    "  def get_data_input_shapes(self):\n",
    "    return [(28, 28, 1)]\n",
    "\n",
    "  def create_generator(self):\n",
    "    return tf.keras.Sequential([\n",
    "        Dense(7*7*8, activation=tf.nn.relu),\n",
    "        Reshape((7, 7, 8)),\n",
    "        Conv2DTranspose(filters=16, kernel_size=5, strides=2, activation=tf.nn.relu, padding='same'),\n",
    "        Conv2DTranspose(filters=1, kernel_size=5, strides=2, activation=tf.sigmoid, padding='same')\n",
    "    ])\n",
    "\n",
    "  def create_discriminator(self):\n",
    "    return tf.keras.Sequential([\n",
    "        Conv2D(filters=32, kernel_size=5, strides=2, activation=tf.nn.leaky_relu, padding='same'),\n",
    "        Conv2D(filters=64, kernel_size=5, strides=2, activation=tf.nn.leaky_relu, padding='same'),\n",
    "        Dense(1, activation=tf.math.softplus)\n",
    "    ])\n",
    "\n",
    "gan = DigitGAN(learning_rate=ExponentialDecay(0.001, 0.9, 5000))"
   ]
  },
  {
   "cell_type": "markdown",
   "metadata": {
    "colab_type": "text",
    "id": "69GHTt_2r0cb"
   },
   "source": [
    "现在训练它。和上一篇教程一样，我们编写了一个数据生成器来生成数据。这次的数据来自一个数据集，我们将循环100次。\n",
    "\n",
    "还有一个区别值得注意。在训练传统 GAN 时，重要的是在整个训练过程中保持生成器和判别器的平衡。如果其中一个走得太远，另一个就很难学习了。\n",
    "\n",
    "WGANs 没有这个问题。事实上，判别器变得越好，它提供的信号就越清晰，生成器就越容易学习它。因此，我们指定 `generator_steps=0.2` ，以便每训练判别器5步，只需要训练生成器1步。这往往产生更快的训练效果和更好的结果。"
   ]
  },
  {
   "cell_type": "code",
   "execution_count": 4,
   "metadata": {
    "colab": {},
    "colab_type": "code",
    "id": "lP7x5ZT1r0cc"
   },
   "outputs": [
    {
     "name": "stdout",
     "output_type": "stream",
     "text": [
      "Ending global_step 4999: generator average loss 0.340072, discriminator average loss -0.0234236\n",
      "Ending global_step 9999: generator average loss 0.52308, discriminator average loss -0.00702729\n",
      "Ending global_step 14999: generator average loss 0.572661, discriminator average loss -0.00635684\n",
      "Ending global_step 19999: generator average loss 0.560454, discriminator average loss -0.00534357\n",
      "Ending global_step 24999: generator average loss 0.556055, discriminator average loss -0.00620613\n",
      "Ending global_step 29999: generator average loss 0.541958, discriminator average loss -0.00734233\n",
      "Ending global_step 34999: generator average loss 0.540904, discriminator average loss -0.00736641\n",
      "Ending global_step 39999: generator average loss 0.524298, discriminator average loss -0.00650514\n",
      "Ending global_step 44999: generator average loss 0.503931, discriminator average loss -0.00563732\n",
      "Ending global_step 49999: generator average loss 0.528964, discriminator average loss -0.00590612\n",
      "Ending global_step 54999: generator average loss 0.510892, discriminator average loss -0.00562366\n",
      "Ending global_step 59999: generator average loss 0.494756, discriminator average loss -0.00533636\n",
      "TIMING: model fitting took 4197.860 s\n"
     ]
    }
   ],
   "source": [
    "def iterbatches(epochs):\n",
    "  for i in range(epochs):\n",
    "    for batch in dataset.iterbatches(batch_size=gan.batch_size):\n",
    "      yield {gan.data_inputs[0]: batch[0]}\n",
    "\n",
    "gan.fit_gan(iterbatches(100), generator_steps=0.2, checkpoint_interval=5000)"
   ]
  },
  {
   "cell_type": "markdown",
   "metadata": {
    "colab_type": "text",
    "id": "UW60zOZGr0ci"
   },
   "source": [
    "让我们生成一些数据，看看结果如何。"
   ]
  },
  {
   "cell_type": "code",
   "execution_count": 5,
   "metadata": {
    "colab": {},
    "colab_type": "code",
    "id": "fSQtVhSer0ck"
   },
   "outputs": [
    {
     "data": {
      "image/png": "[encoded data removed]",
      "text/plain": [
       "<Figure size 216x216 with 16 Axes>"
      ]
     },
     "metadata": {},
     "output_type": "display_data"
    }
   ],
   "source": [
    "plot_digits(gan.predict_gan_generator(batch_size=16))"
   ]
  },
  {
   "cell_type": "markdown",
   "metadata": {
    "colab_type": "text",
    "id": "etw8X24pr0cr"
   },
   "source": [
    "还不错。许多生成的图像看起来很像手写的数字。当然，经过较长时间训练的较大模型可以做得更好。"
   ]
  },
  {
   "cell_type": "markdown",
   "metadata": {
    "colab_type": "text",
    "id": "LTtjqIsnr0ct"
   },
   "source": [
    "# Congratulations! Time to join the Community!\n",
    "\n",
    "Congratulations on completing this tutorial notebook! If you enjoyed working through the tutorial, and want to continue working with DeepChem, we encourage you to finish the rest of the tutorials in this series. You can also help the DeepChem community in the following ways:\n",
    "\n",
    "## Star DeepChem on [GitHub](https://github.com/deepchem/deepchem)\n",
    "This helps build awareness of the DeepChem project and the tools for open source drug discovery that we're trying to build.\n",
    "\n",
    "## Join the DeepChem Gitter\n",
    "The DeepChem [Gitter](https://gitter.im/deepchem/Lobby) hosts a number of scientists, developers, and enthusiasts interested in deep learning for the life sciences. Join the conversation!"
   ]
  }
 ],
 "metadata": {
  "accelerator": "GPU",
  "colab": {
   "name": "17_Training_a_Generative_Adversarial_Network_on_MNIST.ipynb",
   "provenance": []
  },
  "kernelspec": {
   "display_name": "Python 3",
   "language": "python",
   "name": "python3"
  },
  "language_info": {
   "codemirror_mode": {
    "name": "ipython",
    "version": 3
   },
   "file_extension": ".py",
   "mimetype": "text/x-python",
   "name": "python",
   "nbconvert_exporter": "python",
   "pygments_lexer": "ipython3",
   "version": "3.7.6"
  }
 },
 "nbformat": 4,
 "nbformat_minor": 1
}
