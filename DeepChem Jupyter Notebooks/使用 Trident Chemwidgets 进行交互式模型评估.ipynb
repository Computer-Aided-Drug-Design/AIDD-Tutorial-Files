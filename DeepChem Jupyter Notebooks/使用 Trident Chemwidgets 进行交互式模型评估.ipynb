{
 "cells": [
  {
   "cell_type": "markdown",
   "metadata": {},
   "source": [
    "# 使用 Trident Chemwidgets 进行交互式模型评估\n",
    "\n",
    "在本教程中，我们将在[*图卷积的介绍* 教程](https://github.com/deepchem/deepchem/blob/master/examples/tutorials/Introduction_to_Graph_Convolutions.ipynb)的基础上，向你展示如何使用 [Trident Chemwidgets](https://github.com/tridentbio/trident-chemwidgets) （TCW）包与你训练的模型进行交互和测试。\n",
    "\n",
    "在新数据上评估模型，包括极端案例，是模型部署的关键步骤。然而，生成新分子以交互方式进行测试很少是直接的。TCW 提供了一些工具来帮助对更大的数据集进行子集化，并绘制新的分子对模型进行测试。你可以在 [这里](https://www.trident.bio/trident-chemwidgets/html/index.html) 找到 Trident Chemwidgets 库的完整文档。\n",
    "\n",
    "## Colab\n",
    "\n",
    "This tutorial and the rest in this sequence are designed to be done in Google colab. If you'd like to open this notebook in colab, you can use the following link.\n",
    "\n",
    "[![Open In Colab](https://colab.research.google.com/assets/colab-badge.svg)](https://colab.research.google.com/github/deepchem/deepchem/blob/master/examples/tutorials/Interactive_model_evaluation_with_Trident_Chemwidgets.ipynb)"
   ]
  },
  {
   "cell_type": "markdown",
   "metadata": {},
   "source": [
    "# 准备"
   ]
  },
  {
   "cell_type": "code",
   "execution_count": null,
   "metadata": {
    "colab": {
     "base_uri": "https://localhost:8080/",
     "height": 211
    },
    "colab_type": "code",
    "id": "3Jv2cmnW91CF",
    "outputId": "bd523c54-3038-4654-89ad-356ad1e207ca",
    "tags": []
   },
   "outputs": [],
   "source": [
    "!pip install tensorflow deepchem trident-chemwidgets seaborn"
   ]
  },
  {
   "cell_type": "markdown",
   "metadata": {},
   "source": [
    "对于本教程，你需要 Trident Chemwidgets 0.2.0 或更高版本。我们可以用下面的命令检查安装的版本："
   ]
  },
  {
   "cell_type": "code",
   "execution_count": 1,
   "metadata": {},
   "outputs": [
    {
     "name": "stdout",
     "output_type": "stream",
     "text": [
      "0.2.1\n"
     ]
    }
   ],
   "source": [
    "import trident_chemwidgets as tcw\n",
    "print(tcw.__version__)"
   ]
  },
  {
   "cell_type": "markdown",
   "metadata": {},
   "source": [
    "在本教程中，我们将使用惯用的 `tcw` 来称 Trident Chemwidgets 包中的类。"
   ]
  },
  {
   "cell_type": "markdown",
   "metadata": {},
   "source": [
    "# 探索数据\n",
    "\n",
    "首先，我们将加载 Tox21 数据集并提取预定义的训练、验证和测试拆分。"
   ]
  },
  {
   "cell_type": "code",
   "execution_count": 2,
   "metadata": {
    "colab": {
     "base_uri": "https://localhost:8080/",
     "height": 89
    },
    "colab_type": "code",
    "id": "JMi2V8Jncj1W",
    "outputId": "56ab5eb6-07be-4d8f-c19b-88d1f73f2f46"
   },
   "outputs": [],
   "source": [
    "import deepchem as dc\n",
    "\n",
    "tasks, datasets, transformers = dc.molnet.load_tox21(featurizer='GraphConv')\n",
    "train_dataset, valid_dataset, test_dataset = datasets"
   ]
  },
  {
   "cell_type": "markdown",
   "metadata": {},
   "source": [
    "然后，我们可以使用 RDKit 为每个训练示例计算一些额外的特征。具体来说，我们将计算每个分子的 [logP](https://en.wikipedia.org/wiki/Partition_coefficient) 和 [分子量](https://en.wikipedia.org/wiki/Molecular_mass)，并在 dataframe 中返回此新数据。"
   ]
  },
  {
   "cell_type": "code",
   "execution_count": 3,
   "metadata": {},
   "outputs": [
    {
     "name": "stderr",
     "output_type": "stream",
     "text": [
      "[15:36:55] WARNING: not removing hydrogen atom without neighbors\n"
     ]
    },
    {
     "data": {
      "text/html": [
       "<div>\n",
       "<style scoped>\n",
       "    .dataframe tbody tr th:only-of-type {\n",
       "        vertical-align: middle;\n",
       "    }\n",
       "\n",
       "    .dataframe tbody tr th {\n",
       "        vertical-align: top;\n",
       "    }\n",
       "\n",
       "    .dataframe thead th {\n",
       "        text-align: right;\n",
       "    }\n",
       "</style>\n",
       "<table border=\"1\" class=\"dataframe\">\n",
       "  <thead>\n",
       "    <tr style=\"text-align: right;\">\n",
       "      <th></th>\n",
       "      <th>smiles</th>\n",
       "      <th>logp</th>\n",
       "      <th>mwt</th>\n",
       "      <th>split</th>\n",
       "    </tr>\n",
       "  </thead>\n",
       "  <tbody>\n",
       "    <tr>\n",
       "      <th>0</th>\n",
       "      <td>CC(O)(P(=O)(O)O)P(=O)(O)O</td>\n",
       "      <td>-0.9922</td>\n",
       "      <td>206.027</td>\n",
       "      <td>train</td>\n",
       "    </tr>\n",
       "    <tr>\n",
       "      <th>1</th>\n",
       "      <td>CC(C)(C)OOC(C)(C)CCC(C)(C)OOC(C)(C)C</td>\n",
       "      <td>4.8172</td>\n",
       "      <td>290.444</td>\n",
       "      <td>train</td>\n",
       "    </tr>\n",
       "    <tr>\n",
       "      <th>2</th>\n",
       "      <td>OC[C@H](O)[C@@H](O)[C@H](O)CO</td>\n",
       "      <td>-2.9463</td>\n",
       "      <td>152.146</td>\n",
       "      <td>train</td>\n",
       "    </tr>\n",
       "    <tr>\n",
       "      <th>3</th>\n",
       "      <td>CCCCCCCC(=O)[O-].CCCCCCCC(=O)[O-].[Zn+2]</td>\n",
       "      <td>2.1911</td>\n",
       "      <td>351.802</td>\n",
       "      <td>train</td>\n",
       "    </tr>\n",
       "    <tr>\n",
       "      <th>4</th>\n",
       "      <td>CC(C)COC(=O)C(C)C</td>\n",
       "      <td>1.8416</td>\n",
       "      <td>144.214</td>\n",
       "      <td>train</td>\n",
       "    </tr>\n",
       "  </tbody>\n",
       "</table>\n",
       "</div>"
      ],
      "text/plain": [
       "                                     smiles    logp      mwt  split\n",
       "0                 CC(O)(P(=O)(O)O)P(=O)(O)O -0.9922  206.027  train\n",
       "1      CC(C)(C)OOC(C)(C)CCC(C)(C)OOC(C)(C)C  4.8172  290.444  train\n",
       "2             OC[C@H](O)[C@@H](O)[C@H](O)CO -2.9463  152.146  train\n",
       "3  CCCCCCCC(=O)[O-].CCCCCCCC(=O)[O-].[Zn+2]  2.1911  351.802  train\n",
       "4                         CC(C)COC(=O)C(C)C  1.8416  144.214  train"
      ]
     },
     "execution_count": 3,
     "metadata": {},
     "output_type": "execute_result"
    }
   ],
   "source": [
    "import rdkit.Chem as Chem\n",
    "from rdkit.Chem.Crippen import MolLogP\n",
    "from rdkit.Chem.Descriptors import MolWt\n",
    "import pandas as pd\n",
    "\n",
    "data = []\n",
    "\n",
    "for dataset, split in zip(datasets, ['train', 'valid', 'test']):\n",
    "    for smiles in dataset.ids:\n",
    "        mol = Chem.MolFromSmiles(smiles)\n",
    "        logp = MolLogP(mol)\n",
    "        mwt = MolWt(mol)\n",
    "        data.append({\n",
    "            'smiles': smiles,\n",
    "            'logp': logp,\n",
    "            'mwt': mwt,\n",
    "            'split': split\n",
    "        })\n",
    "        \n",
    "mol_data = pd.DataFrame(data)\n",
    "\n",
    "mol_data.head()"
   ]
  },
  {
   "cell_type": "markdown",
   "metadata": {},
   "source": [
    "## 一维分布\n",
    "\n",
    "我们可以用直方图来检查一维分布。与 Matplotlib 或 Seaborn 等静态绘图库中的直方图不同，TCW 直方图提供了交互功能。TCW 支持对数据进行子集设置，图库中在绘图旁边绘制化学结构，并保存对 dataframe 子集部分的引用。不幸的是，这种交互性是以可移植性为代价的，所以除了提供生成交互式视觉效果的代码外，我们还在本教程中包含了截屏。如果你自己运行本教程（本地或在 Colab 上），你将能够显示完整的演示图并与之交互。\n",
    "\n",
    "在下面的图中，你可以看到左边的合并的数据集的分子量分布的直方图。如果在活动小部件中的绘图区域内单击并拖动，则可以将分布的一部分划分为子集，以便进一步检查。所选部分的背景将变为灰色，所选数据点将在图的柱状图中显示为蓝绿色。直方图小部件的 x 轴与数值或日期数据类型兼容，这使得它成为基于性质或收集实验数据的日期拆分机器学习数据集的方便选择。\n",
    "\n",
    "<img src='.\\附件\\Histogram.png' alt=\"Histogram example\" width=\"1000\"/>\n",
    "\n",
    "要生成小部件的交互式示例，运行下一个单元格："
   ]
  },
  {
   "cell_type": "code",
   "execution_count": 4,
   "metadata": {},
   "outputs": [
    {
     "data": {
      "application/vnd.jupyter.widget-view+json": {
       "model_id": "0a3cd5da2d9241818fa7f82e029ba502",
       "version_major": 2,
       "version_minor": 0
      },
      "text/plain": [
       "Histogram(data={'points': [{'smiles': 'CC(O)(P(=O)(O)O)P(=O)(O)O', 'x': 206.027, 'index': 0}, {'smiles': 'CC(C…"
      ]
     },
     "metadata": {},
     "output_type": "display_data"
    }
   ],
   "source": [
    "hist = tcw.Histogram(data=mol_data, smiles='smiles', x='mwt')\n",
    "hist"
   ]
  },
  {
   "cell_type": "markdown",
   "metadata": {},
   "source": [
    "如果你通过点击和拖动选择数据的子集，你可以通过按下图下方的 `SHOW STRUCTURES` 按钮在右侧的图库中查看所选的结构。你可以通过按下 `SAVE SELECTION` 获取原来的 dataframe 的子集并访问其 `hist.selection` 属性如同下面所示。该工作流对于基于单一维度的数据拆分等应用非常方便。"
   ]
  },
  {
   "cell_type": "code",
   "execution_count": null,
   "metadata": {},
   "outputs": [
    {
     "data": {
      "text/html": [
       "<div>\n",
       "<style scoped>\n",
       "    .dataframe tbody tr th:only-of-type {\n",
       "        vertical-align: middle;\n",
       "    }\n",
       "\n",
       "    .dataframe tbody tr th {\n",
       "        vertical-align: top;\n",
       "    }\n",
       "\n",
       "    .dataframe thead th {\n",
       "        text-align: right;\n",
       "    }\n",
       "</style>\n",
       "<table border=\"1\" class=\"dataframe\">\n",
       "  <thead>\n",
       "    <tr style=\"text-align: right;\">\n",
       "      <th></th>\n",
       "      <th>smiles</th>\n",
       "      <th>logp</th>\n",
       "      <th>mwt</th>\n",
       "      <th>split</th>\n",
       "    </tr>\n",
       "  </thead>\n",
       "  <tbody>\n",
       "  </tbody>\n",
       "</table>\n",
       "</div>"
      ],
      "text/plain": [
       "Empty DataFrame\n",
       "Columns: [smiles, logp, mwt, split]\n",
       "Index: []"
      ]
     },
     "execution_count": 5,
     "metadata": {},
     "output_type": "execute_result"
    }
   ],
   "source": [
    "hist.selection"
   ]
  },
  {
   "cell_type": "markdown",
   "metadata": {},
   "source": [
    "## Two- or three-dimensional distributions\n",
    "\n",
    "除了直方图，TCW还提供了绘制散点图的类。Scatter 类在比较二维或三维或数据时非常有用。从 v0.2.0 开始，TCW Scatter 支持使用 x 轴和 y 轴以及每个点的颜色( `hue` 关键字)来表示连续或离散变量。就像直方图示例一样，你可以在绘图区域内单击和拖动以沿 x 轴和 y 轴进行子集。Scatter 组件还支持 x、y 和 hue 轴上的日期。\n",
    "\n",
    "在下面的图像中，我们选择了分子量值较大的数据集的一部分，但训练示例很少（以橙色显示的点），以演示 Scatter 小部件如何用于离群值识别。除了通过边界框进行选择外，你还可以将鼠标悬停在单个点上以显示底层结构的绘图。\n",
    "\n",
    "<img src='.\\附件\\Scatter.png' alt=\"Scatter example\" width=\"1000\"/>\n",
    "\n",
    "要生成小部件的交互式示例，运行下一个单元格："
   ]
  },
  {
   "cell_type": "code",
   "execution_count": null,
   "metadata": {},
   "outputs": [
    {
     "data": {
      "application/vnd.jupyter.widget-view+json": {
       "model_id": "e1d4041dc71a4638b737fcf8247e4556",
       "version_major": 2,
       "version_minor": 0
      },
      "text/plain": [
       "Scatter(data={'points': [{'smiles': 'CC(O)(P(=O)(O)O)P(=O)(O)O', 'x': 206.027, 'y': -0.9922000000000002, 'hue'…"
      ]
     },
     "metadata": {},
     "output_type": "display_data"
    }
   ],
   "source": [
    "scatter = tcw.Scatter(data=mol_data, smiles='smiles', x='mwt', y='logp', hue='split')\n",
    "scatter"
   ]
  },
  {
   "cell_type": "markdown",
   "metadata": {},
   "source": [
    "如果你通过点击和拖动选择数据的子集，你可以通过按下图下方的 `SHOW STRUCTURES` 按钮在右侧的图库中查看所选的结构。你可以通过按下 `SAVE SELECTION` 获取原来的 dataframe 的子集并访问其 `scatter.selection` 属性如同下面所示。"
   ]
  },
  {
   "cell_type": "code",
   "execution_count": 7,
   "metadata": {},
   "outputs": [
    {
     "data": {
      "text/html": [
       "<div>\n",
       "<style scoped>\n",
       "    .dataframe tbody tr th:only-of-type {\n",
       "        vertical-align: middle;\n",
       "    }\n",
       "\n",
       "    .dataframe tbody tr th {\n",
       "        vertical-align: top;\n",
       "    }\n",
       "\n",
       "    .dataframe thead th {\n",
       "        text-align: right;\n",
       "    }\n",
       "</style>\n",
       "<table border=\"1\" class=\"dataframe\">\n",
       "  <thead>\n",
       "    <tr style=\"text-align: right;\">\n",
       "      <th></th>\n",
       "      <th>smiles</th>\n",
       "      <th>logp</th>\n",
       "      <th>mwt</th>\n",
       "      <th>split</th>\n",
       "    </tr>\n",
       "  </thead>\n",
       "  <tbody>\n",
       "  </tbody>\n",
       "</table>\n",
       "</div>"
      ],
      "text/plain": [
       "Empty DataFrame\n",
       "Columns: [smiles, logp, mwt, split]\n",
       "Index: []"
      ]
     },
     "execution_count": 7,
     "metadata": {},
     "output_type": "execute_result"
    }
   ],
   "source": [
    "scatter.selection"
   ]
  },
  {
   "cell_type": "markdown",
   "metadata": {},
   "source": [
    "# 训练一个 GraphConvModel\n",
    "\n",
    "现在我们已经了解了训练数据，我们可以训练 GraphConvModel 来预测12个 Tox21 类。我们将完全复制[*介绍图形卷积*教程](https://github.com/deepchem/deepchem/blob/master/examples/tutorials/Introduction_to_Graph_Convolutions.ipynb)中的训练过程。我们将训练50次，就像在最初的教程。"
   ]
  },
  {
   "cell_type": "code",
   "execution_count": 8,
   "metadata": {
    "colab": {
     "base_uri": "https://localhost:8080/",
     "height": 245
    },
    "colab_type": "code",
    "id": "Y9n3jTNHcj1a",
    "outputId": "2caab2e5-5e5a-4f97-a440-753692341d35",
    "tags": []
   },
   "outputs": [
    {
     "name": "stderr",
     "output_type": "stream",
     "text": [
      "2022-06-29 15:37:03.915828: I tensorflow/core/platform/cpu_feature_guard.cc:193] This TensorFlow binary is optimized with oneAPI Deep Neural Network Library (oneDNN) to use the following CPU instructions in performance-critical operations:  AVX2 FMA\n",
      "To enable them in other operations, rebuild TensorFlow with the appropriate compiler flags.\n"
     ]
    },
    {
     "data": {
      "text/plain": [
       "0.2661594772338867"
      ]
     },
     "execution_count": 8,
     "metadata": {},
     "output_type": "execute_result"
    }
   ],
   "source": [
    "# The next line filters tensorflow warnings relevant to memory consumption.\n",
    "# To see these warnings, comment the next line.\n",
    "#import warnings; warnings.filterwarnings('ignore')\n",
    "\n",
    "# Now we'll set the tensorflow seed to make sure the results of this notebook are reproducible\n",
    "import tensorflow as tf; tf.random.set_seed(27)\n",
    "\n",
    "n_tasks = len(tasks)\n",
    "model = dc.models.GraphConvModel(n_tasks, mode='classification')\n",
    "model.fit(train_dataset, nb_epoch=50)"
   ]
  },
  {
   "cell_type": "markdown",
   "metadata": {},
   "source": [
    "现在我们有了一个训练过的模型，我们可以检查训练和测试数据集的 AUROC 值："
   ]
  },
  {
   "cell_type": "code",
   "execution_count": 9,
   "metadata": {},
   "outputs": [
    {
     "name": "stdout",
     "output_type": "stream",
     "text": [
      "Training set score: 0.97\n",
      "Test set score: 0.68\n"
     ]
    }
   ],
   "source": [
    "metric = dc.metrics.Metric(dc.metrics.roc_auc_score)\n",
    "print(f'Training set score: {model.evaluate(train_dataset, [metric], transformers)[\"roc_auc_score\"]:.2f}')\n",
    "print(f'Test set score: {model.evaluate(test_dataset, [metric], transformers)[\"roc_auc_score\"]:.2f}')"
   ]
  },
  {
   "cell_type": "markdown",
   "metadata": {},
   "source": [
    "正如在最初的教程中一样，我们看到模型在预定义的训练/测试分割中表现得相当好。现在我们将使用这个模型来评估训练分布之外的化合物，就像我们在真实的药物发现场景中所做的那样。"
   ]
  },
  {
   "cell_type": "markdown",
   "metadata": {},
   "source": [
    "# 在新数据上评估模型\n",
    "\n",
    "在生产中部署机器学习模型的第一个具有挑战性的步骤是在新数据上评估它。在这里，新数据既指初始 train/val/test 分布之外的数据，也指可能尚未处理并与模型一起使用的数据。\n",
    "\n",
    "我们可以使用 TCW 提供的 JSME 小部件再次快速测试我们的模型。我们将从一个已知的治疗分子开始：布洛芬。我们可以看到，布洛芬不包括在我们评估模型的任何数据集中："
   ]
  },
  {
   "cell_type": "code",
   "execution_count": 10,
   "metadata": {},
   "outputs": [
    {
     "name": "stdout",
     "output_type": "stream",
     "text": [
      "Ibuprofen structure in Tox21 dataset: False\n"
     ]
    }
   ],
   "source": [
    "print(f\"Ibuprofen structure in Tox21 dataset: {'CC(C)CC1=CC=C(C=C1)C(C)C(=O)O' in mol_data['smiles']}\")"
   ]
  },
  {
   "cell_type": "markdown",
   "metadata": {},
   "source": [
    "为了模拟药物发现应用，假设你是一名化学家，任务是识别从布洛芬衍生出的潜在新疗法。理想情况下，你测试的分子毒性应该是有限的。你刚刚开发了上面的模型来根据 Tox21 数据预测毒理结果，现在你想使用它对你的衍生物进行一些初步筛选。这类任务的标准工作流程可能包括在 ChemDraw 等程序中绘制分子，导出为 SMILES 格式，导入到笔记本中，然后准备数据并加载到模型。\n",
    "\n",
    "有了 TCW，我们可以使用 [JSME](https://jsme-editor.github.io/help.html) 小部件在笔记本中直接绘制分子并转换为 SMILES，从而简化工作流的前几个步骤。我们甚至可以使用 `base_smiles` 参数来指定基本分子结构，这对于生成衍生物非常有用。这里我们将把 base_smiles 值设置为 `'CC(C)CC1=CC=C(C=C1)C(C)C(=O)O'` ，即布洛芬的 SMILES 字符串。下面是使用 JSME 生成的一些衍生分子来测试我们的毒性模型的截图。\n",
    "\n",
    "<img src=\".\\附件\\JSME.png\" alt=\"JSME example\" width=\"1000\"/>\n",
    "\n",
    "要生成你自己的衍生物，请运行下面的单元格。要向保存的集合中添加 SMILES 字符串，请单击界面下方的 `ADD TO SMILES LIST` 按钮。如果你想重新生成原来的基本分子，在本例中是布洛芬，点击界面下方的 `RESET TO BASE SMILES` 按钮。通过使用这个按钮，可以很容易地从共享的起始结构生成不同的衍生物。继续制作一些布洛芬衍生物来测试毒理模型："
   ]
  },
  {
   "cell_type": "code",
   "execution_count": 11,
   "metadata": {},
   "outputs": [
    {
     "data": {
      "application/vnd.jupyter.widget-view+json": {
       "model_id": "8c06436a20834334ad055cecdae88618",
       "version_major": 2,
       "version_minor": 0
      },
      "text/plain": [
       "JSME(base_smiles='CC(C)CC1=CC=C(C=C1)C(C)C(=O)O')"
      ]
     },
     "metadata": {},
     "output_type": "display_data"
    }
   ],
   "source": [
    "jsme = tcw.JSME(base_smiles='CC(C)CC1=CC=C(C=C1)C(C)C(=O)O')\n",
    "jsme"
   ]
  },
  {
   "cell_type": "markdown",
   "metadata": {},
   "source": [
    "你可以使用 `jsme.smiles` 方法访问smiles。这个调用将返回已添加到小部件的 SMILES 列表中的 SMILES 字符串的列表（在 JSME 界面右侧的分子图库中显示的那些字符串）。"
   ]
  },
  {
   "cell_type": "code",
   "execution_count": 12,
   "metadata": {},
   "outputs": [
    {
     "name": "stdout",
     "output_type": "stream",
     "text": [
      "[]\n"
     ]
    }
   ],
   "source": [
    "print(jsme.smiles)"
   ]
  },
  {
   "cell_type": "markdown",
   "metadata": {},
   "source": [
    "为了确保笔记本的其余部分正确运行，如果你没有使用小部件定义自己的集合，那么下面的单元格将新的测试 SMILES 列表设置为上面屏幕截图中的值。否则，它就会用你画的分子。"
   ]
  },
  {
   "cell_type": "code",
   "execution_count": 13,
   "metadata": {},
   "outputs": [],
   "source": [
    "# This cell will provide a preset list of SMILES strings in case you did not create your own.\n",
    "if len(jsme.smiles) > 1:\n",
    "    drawn_smiles = jsme.smiles\n",
    "else:\n",
    "    drawn_smiles = [\n",
    "        'CC(C)Cc1ccc(C(C)C(=O)O)cc1',\n",
    "        'CC(C)C(S)c1ccc(C(C)C(=O)O)cc1',\n",
    "        'CCSC(c1ccc(C(C)C(=O)O)cc1)C(C)CC',\n",
    "        'CCSC(c1ccc(C(C)C(=O)O)cc1)C(C)C(=O)O',\n",
    "        'CC(C(=O)O)c1ccc(C(S)C(C)C(=O)O)cc1'\n",
    "    ]"
   ]
  },
  {
   "cell_type": "markdown",
   "metadata": {},
   "source": [
    "接下来，我们必须创建一个与我们的模型兼容的数据集来测试这些新分子。"
   ]
  },
  {
   "cell_type": "code",
   "execution_count": 14,
   "metadata": {},
   "outputs": [],
   "source": [
    "featurizer = dc.feat.ConvMolFeaturizer()\n",
    "loader = dc.data.InMemoryLoader(tasks=list(train_dataset.tasks), featurizer=featurizer)\n",
    "dataset = loader.create_dataset(drawn_smiles, shard_size=1)"
   ]
  },
  {
   "cell_type": "markdown",
   "metadata": {},
   "source": [
    "最后，我们可以在这里生成对正结果的预测，并将其绘制出来。"
   ]
  },
  {
   "cell_type": "code",
   "execution_count": 15,
   "metadata": {},
   "outputs": [
    {
     "data": {
      "text/plain": [
       "<AxesSubplot:>"
      ]
     },
     "execution_count": 15,
     "metadata": {},
     "output_type": "execute_result"
    },
    {
     "data": {
      "image/png": "[encoded data removed]",
      "text/plain": [
       "<Figure size 432x288 with 2 Axes>"
      ]
     },
     "metadata": {
      "needs_background": "light"
     },
     "output_type": "display_data"
    }
   ],
   "source": [
    "predictions = model.predict(dataset, transformers)[:, :, 1]\n",
    "\n",
    "import seaborn as sns\n",
    "sns.heatmap(predictions, vmin=0, vmax=1)"
   ]
  },
  {
   "cell_type": "markdown",
   "metadata": {},
   "source": [
    "现在我们可以得到预测的毒性最大的化合物/测定结果，以供进一步检查。下面我们提取最高的预测阳性命中值（毒性最强），并显示化验名称、SMILES 字符串和结构图像。"
   ]
  },
  {
   "cell_type": "code",
   "execution_count": 16,
   "metadata": {},
   "outputs": [
    {
     "name": "stdout",
     "output_type": "stream",
     "text": [
      "Most toxic result (predicted): NR-ER, CC(C)Cc1ccc(C(C)C(=O)O)cc1\n"
     ]
    },
    {
     "data": {
      "image/png": "[encoded data removed]",
      "text/plain": [
       "<rdkit.Chem.rdchem.Mol at 0x7fc92952cca0>"
      ]
     },
     "execution_count": 16,
     "metadata": {},
     "output_type": "execute_result"
    }
   ],
   "source": [
    "import numpy as np\n",
    "\n",
    "mol_idx, assay_idx = np.unravel_index(predictions.argmax(), predictions.shape)\n",
    "smiles = drawn_smiles[mol_idx]\n",
    "\n",
    "print(f'Most toxic result (predicted): {train_dataset.tasks[assay_idx]}, {smiles}')\n",
    "mol = Chem.MolFromSmiles(smiles)\n",
    "mol"
   ]
  },
  {
   "cell_type": "markdown",
   "metadata": {},
   "source": [
    "# Interpreting the model's predictions\n",
    "\n",
    "通常，仅凭预测不足以决定是否进行昂贵的实验。我们可能还需要一些或多个允许我们解释模型输出的指标。\n",
    "\n",
    "在教程[基于图卷积 QSAR 模型计算原子对分子的贡献](https://aidd-tutorial.readthedocs.io/zh_CN/latest/%E5%8E%9F%E5%AD%90%E5%AF%B9%E5%88%86%E5%AD%90%E7%9A%84%E8%B4%A1%E7%8C%AE.html)的基础上，我们可以计算分子中每个原子对预测输出值的相对贡献。这种归因策略使我们能够确定化学家可能认为重要的分子特征和那些最影响预测的分子特征是否一致。如果化学家的解释和模型的解释指标是一致的，这可能表明模型很适合手头的任务。然而，反过来也不一定是真的。一个模型可能有能力做出一个训练有素的化学家无法完全理解的准确预测。这只是机器学习从业者工具箱中的一个工具。\n",
    "\n",
    "我们将首先为 `ConvMolFeaturizer` 使用内置的 `per_atom_fragmentation` 参数。这将生成一个 ConvMol 对象列表，每个对象都是删除了一个原子的分子。"
   ]
  },
  {
   "cell_type": "code",
   "execution_count": 17,
   "metadata": {},
   "outputs": [],
   "source": [
    "featurizer = dc.feat.ConvMolFeaturizer(per_atom_fragmentation=True)\n",
    "mol_list = featurizer(smiles)\n",
    "loader = dc.data.InMemoryLoader(tasks=list(train_dataset.tasks),\n",
    "                                featurizer=dc.feat.DummyFeaturizer())\n",
    "dataset = loader.create_dataset(mol_list[0], shard_size=1)"
   ]
  },
  {
   "cell_type": "markdown",
   "metadata": {},
   "source": [
    "然后，我们可以通过模型运行这些预测，并检索上一部分指定的分子的预测值和化验结果。"
   ]
  },
  {
   "cell_type": "code",
   "execution_count": 18,
   "metadata": {},
   "outputs": [],
   "source": [
    "full_molecule_prediction = predictions[mol_idx, assay_idx]\n",
    "fragment_predictions = model.predict(dataset, transformers)[:, assay_idx, 0]\n",
    "contributions = pd.DataFrame({\n",
    "    'Change in predicted toxicity': \n",
    "    (full_molecule_prediction - fragment_predictions).round(3)\n",
    "})"
   ]
  },
  {
   "cell_type": "markdown",
   "metadata": {},
   "source": [
    "我们可以使用 TCW 的 InteractiveMolecule 小部件将贡献分数叠加在分子本身上，使我们能够轻松地评估每个原子对最终预测的相对重要性。如果单击其中一个原子，就可以在结构右侧显示的卡片中检索贡献数据。在这个面板中，你还可以选择一个变量来为图中的原子上色。\n",
    "\n",
    "<img src=\".\\附件\\InteractiveMolecule.png\" alt=\"InteractiveMolecule example\" width=\"1000\"/>\n",
    "\n",
    "你可以通过运行下面的单元格来生成交互式小部件。"
   ]
  },
  {
   "cell_type": "code",
   "execution_count": 19,
   "metadata": {},
   "outputs": [
    {
     "data": {
      "application/vnd.jupyter.widget-view+json": {
       "model_id": "66d2fffdf0d54536b166862f9e7977a5",
       "version_major": 2,
       "version_minor": 0
      },
      "text/plain": [
       "InteractiveMolecule(data=[{'Change in predicted toxicity': 0.5529999732971191}, {'Change in predicted toxicity…"
      ]
     },
     "metadata": {},
     "output_type": "display_data"
    }
   ],
   "source": [
    "tcw.InteractiveMolecule(smiles, data = contributions)"
   ]
  },
  {
   "cell_type": "markdown",
   "metadata": {
    "colab_type": "text",
    "id": "j1FrVn88cj17"
   },
   "source": [
    "# 结束\n",
    "\n",
    "在本教程中，我们学习了如何将 Trident Chemwidgets 合并到基于 deepchem 的机器学习工作流中。虽然 TCW 是根据分子机器学习工作流程建立的，但该库也适用于一般化学信息学笔记本。 \n",
    "\n",
    "## Star Trident Chemwidgets on [GitHub](https://github.com/tridentbio/trident-chemwidgets)\n",
    "If you find the Trident Chemwidgets package helpful please give it a ⭐️ on GitHub. Starring the project helps it grow and find new audiences.\n",
    "\n",
    "# Congratulations! Time to join the Community!\n",
    "\n",
    "Congratulations on completing this tutorial notebook! If you enjoyed working through the tutorial, and want to continue working with DeepChem, we encourage you to finish the rest of the tutorials in this series. You can also help the DeepChem community in the following ways:\n",
    "\n",
    "## Star DeepChem on [GitHub](https://github.com/deepchem/deepchem)\n",
    "This helps build awareness of the DeepChem project and the tools for open source drug discovery that we're trying to build.\n",
    "\n",
    "## Join the DeepChem Gitter\n",
    "The DeepChem [Gitter](https://gitter.im/deepchem/Lobby) hosts a number of scientists, developers, and enthusiasts interested in deep learning for the life sciences. Join the conversation!"
   ]
  }
 ],
 "metadata": {
  "accelerator": "GPU",
  "colab": {
   "name": "04_Introduction_to_Graph_Convolutions.ipynb",
   "provenance": []
  },
  "kernelspec": {
   "display_name": "Python 3.9.13 ('base': conda)",
   "language": "python",
   "name": "python3"
  },
  "language_info": {
   "codemirror_mode": {
    "name": "ipython",
    "version": 3
   },
   "file_extension": ".py",
   "mimetype": "text/x-python",
   "name": "python",
   "nbconvert_exporter": "python",
   "pygments_lexer": "ipython3",
   "version": "3.9.13"
  },
  "vscode": {
   "interpreter": {
    "hash": "97bbad94c05511dd6a71d18a7299b8b07ff1a59afdab4f3921d39182c5dc1b32"
   }
  },
  "widgets": {
   "application/vnd.jupyter.widget-state+json": {
    "state": {},
    "version_major": 2,
    "version_minor": 0
   }
  }
 },
 "nbformat": 4,
 "nbformat_minor": 4
}
