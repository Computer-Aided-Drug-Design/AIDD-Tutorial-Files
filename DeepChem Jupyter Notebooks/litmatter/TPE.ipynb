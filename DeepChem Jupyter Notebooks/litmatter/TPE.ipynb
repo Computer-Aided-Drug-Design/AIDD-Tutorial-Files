{
 "cells": [
  {
   "cell_type": "markdown",
   "metadata": {},
   "source": [
    "# Deep neural networking training performance estimation (TPE)\n",
    "This notebook shows an example of Training Performance Estimation (TPE) based on logfiles from training a PyTorch model. TPE uses Training Speed Estimation (TSE), which is a simple, efficient, and computationally cheap method to estimate final test performance based on training speed. It does not require hyperparameter-tuning, training data collection, or surrogate model training.\n",
    "\n",
    "TPE requires a logfile with 'epoch' and 'train_loss_step' columns. The logfile must including *training* loss for every step (loss after every minibatch).\n",
    "\n",
    "A suitable logfile is easy to generate with PyTorch Lightning by adding the following line to the `training_step` method of your `LightningModule`:\n",
    "```\n",
    "self.log('train_loss',\n",
    "            loss,\n",
    "            on_step=True\n",
    "            )\n",
    "```\n",
    "\n",
    "TPE also uses GPU utilization and GPU power data collected using the `nvidia-smi` tool to relate DNN performance to energy consumption.\n",
    "\n",
    "[1] Ru, Robin, et al. \"Speedy Performance Estimation for Neural Architecture Search.\" \n",
    "    Advances in Neural Information Processing Systems 34 (2021)."
   ]
  },
  {
   "cell_type": "code",
   "execution_count": 58,
   "metadata": {},
   "outputs": [
    {
     "name": "stdout",
     "output_type": "stream",
     "text": [
      "The autoreload extension is already loaded. To reload it, use:\n",
      "  %reload_ext autoreload\n"
     ]
    }
   ],
   "source": [
    "%load_ext autoreload\n",
    "%autoreload 2"
   ]
  },
  {
   "cell_type": "code",
   "execution_count": 59,
   "metadata": {},
   "outputs": [],
   "source": [
    "import pandas as pd\n",
    "import numpy as np\n",
    "\n",
    "import matplotlib.pyplot as plt\n",
    "import seaborn as sns"
   ]
  },
  {
   "cell_type": "code",
   "execution_count": 60,
   "metadata": {},
   "outputs": [],
   "source": [
    "%matplotlib inline"
   ]
  },
  {
   "cell_type": "code",
   "execution_count": 61,
   "metadata": {},
   "outputs": [],
   "source": [
    "df = pd.read_csv('data/metrics.csv')\n",
    "df = df.dropna(subset=['train_loss_step'])[['train_loss_step', 'epoch', 'step']]"
   ]
  },
  {
   "cell_type": "code",
   "execution_count": 62,
   "metadata": {},
   "outputs": [
    {
     "data": {
      "text/html": [
       "<div>\n",
       "<style scoped>\n",
       "    .dataframe tbody tr th:only-of-type {\n",
       "        vertical-align: middle;\n",
       "    }\n",
       "\n",
       "    .dataframe tbody tr th {\n",
       "        vertical-align: top;\n",
       "    }\n",
       "\n",
       "    .dataframe thead th {\n",
       "        text-align: right;\n",
       "    }\n",
       "</style>\n",
       "<table border=\"1\" class=\"dataframe\">\n",
       "  <thead>\n",
       "    <tr style=\"text-align: right;\">\n",
       "      <th></th>\n",
       "      <th>train_loss_step</th>\n",
       "      <th>epoch</th>\n",
       "      <th>step</th>\n",
       "    </tr>\n",
       "  </thead>\n",
       "  <tbody>\n",
       "    <tr>\n",
       "      <th>0</th>\n",
       "      <td>73.303116</td>\n",
       "      <td>0</td>\n",
       "      <td>0</td>\n",
       "    </tr>\n",
       "    <tr>\n",
       "      <th>1</th>\n",
       "      <td>70.119537</td>\n",
       "      <td>0</td>\n",
       "      <td>1</td>\n",
       "    </tr>\n",
       "    <tr>\n",
       "      <th>2</th>\n",
       "      <td>69.118813</td>\n",
       "      <td>0</td>\n",
       "      <td>2</td>\n",
       "    </tr>\n",
       "    <tr>\n",
       "      <th>3</th>\n",
       "      <td>66.436890</td>\n",
       "      <td>0</td>\n",
       "      <td>3</td>\n",
       "    </tr>\n",
       "    <tr>\n",
       "      <th>4</th>\n",
       "      <td>60.837421</td>\n",
       "      <td>0</td>\n",
       "      <td>4</td>\n",
       "    </tr>\n",
       "  </tbody>\n",
       "</table>\n",
       "</div>"
      ],
      "text/plain": [
       "   train_loss_step  epoch  step\n",
       "0        73.303116      0     0\n",
       "1        70.119537      0     1\n",
       "2        69.118813      0     2\n",
       "3        66.436890      0     3\n",
       "4        60.837421      0     4"
      ]
     },
     "execution_count": 62,
     "metadata": {},
     "output_type": "execute_result"
    }
   ],
   "source": [
    "df.head()"
   ]
  },
  {
   "cell_type": "code",
   "execution_count": 63,
   "metadata": {},
   "outputs": [
    {
     "data": {
      "text/html": [
       "<div>\n",
       "<style scoped>\n",
       "    .dataframe tbody tr th:only-of-type {\n",
       "        vertical-align: middle;\n",
       "    }\n",
       "\n",
       "    .dataframe tbody tr th {\n",
       "        vertical-align: top;\n",
       "    }\n",
       "\n",
       "    .dataframe thead th {\n",
       "        text-align: right;\n",
       "    }\n",
       "</style>\n",
       "<table border=\"1\" class=\"dataframe\">\n",
       "  <thead>\n",
       "    <tr style=\"text-align: right;\">\n",
       "      <th></th>\n",
       "      <th>train_loss_step</th>\n",
       "      <th>epoch</th>\n",
       "      <th>step</th>\n",
       "    </tr>\n",
       "  </thead>\n",
       "  <tbody>\n",
       "    <tr>\n",
       "      <th>1943</th>\n",
       "      <td>3.147081</td>\n",
       "      <td>29</td>\n",
       "      <td>1885</td>\n",
       "    </tr>\n",
       "    <tr>\n",
       "      <th>1944</th>\n",
       "      <td>4.167433</td>\n",
       "      <td>29</td>\n",
       "      <td>1886</td>\n",
       "    </tr>\n",
       "    <tr>\n",
       "      <th>1945</th>\n",
       "      <td>3.883977</td>\n",
       "      <td>29</td>\n",
       "      <td>1887</td>\n",
       "    </tr>\n",
       "    <tr>\n",
       "      <th>1946</th>\n",
       "      <td>3.260770</td>\n",
       "      <td>29</td>\n",
       "      <td>1888</td>\n",
       "    </tr>\n",
       "    <tr>\n",
       "      <th>1947</th>\n",
       "      <td>3.825483</td>\n",
       "      <td>29</td>\n",
       "      <td>1889</td>\n",
       "    </tr>\n",
       "  </tbody>\n",
       "</table>\n",
       "</div>"
      ],
      "text/plain": [
       "      train_loss_step  epoch  step\n",
       "1943         3.147081     29  1885\n",
       "1944         4.167433     29  1886\n",
       "1945         3.883977     29  1887\n",
       "1946         3.260770     29  1888\n",
       "1947         3.825483     29  1889"
      ]
     },
     "execution_count": 63,
     "metadata": {},
     "output_type": "execute_result"
    }
   ],
   "source": [
    "df.tail()"
   ]
  },
  {
   "cell_type": "code",
   "execution_count": 64,
   "metadata": {},
   "outputs": [
    {
     "data": {
      "text/html": [
       "<div>\n",
       "<style scoped>\n",
       "    .dataframe tbody tr th:only-of-type {\n",
       "        vertical-align: middle;\n",
       "    }\n",
       "\n",
       "    .dataframe tbody tr th {\n",
       "        vertical-align: top;\n",
       "    }\n",
       "\n",
       "    .dataframe thead th {\n",
       "        text-align: right;\n",
       "    }\n",
       "</style>\n",
       "<table border=\"1\" class=\"dataframe\">\n",
       "  <thead>\n",
       "    <tr style=\"text-align: right;\">\n",
       "      <th></th>\n",
       "      <th>index</th>\n",
       "      <th>utilization.gpu [%]</th>\n",
       "      <th>utilization.memory [%]</th>\n",
       "      <th>power.draw [W]</th>\n",
       "    </tr>\n",
       "  </thead>\n",
       "  <tbody>\n",
       "    <tr>\n",
       "      <th>count</th>\n",
       "      <td>85670.000000</td>\n",
       "      <td>85670.000000</td>\n",
       "      <td>85670.000000</td>\n",
       "      <td>85670.000000</td>\n",
       "    </tr>\n",
       "    <tr>\n",
       "      <th>mean</th>\n",
       "      <td>0.500000</td>\n",
       "      <td>24.758293</td>\n",
       "      <td>3.543014</td>\n",
       "      <td>43.927812</td>\n",
       "    </tr>\n",
       "    <tr>\n",
       "      <th>std</th>\n",
       "      <td>0.500003</td>\n",
       "      <td>23.370498</td>\n",
       "      <td>3.810124</td>\n",
       "      <td>15.505347</td>\n",
       "    </tr>\n",
       "    <tr>\n",
       "      <th>min</th>\n",
       "      <td>0.000000</td>\n",
       "      <td>0.000000</td>\n",
       "      <td>0.000000</td>\n",
       "      <td>24.500000</td>\n",
       "    </tr>\n",
       "    <tr>\n",
       "      <th>25%</th>\n",
       "      <td>0.000000</td>\n",
       "      <td>0.000000</td>\n",
       "      <td>0.000000</td>\n",
       "      <td>25.910000</td>\n",
       "    </tr>\n",
       "    <tr>\n",
       "      <th>50%</th>\n",
       "      <td>0.500000</td>\n",
       "      <td>31.000000</td>\n",
       "      <td>3.000000</td>\n",
       "      <td>49.380000</td>\n",
       "    </tr>\n",
       "    <tr>\n",
       "      <th>75%</th>\n",
       "      <td>1.000000</td>\n",
       "      <td>40.000000</td>\n",
       "      <td>5.000000</td>\n",
       "      <td>56.360000</td>\n",
       "    </tr>\n",
       "    <tr>\n",
       "      <th>max</th>\n",
       "      <td>1.000000</td>\n",
       "      <td>100.000000</td>\n",
       "      <td>16.000000</td>\n",
       "      <td>79.310000</td>\n",
       "    </tr>\n",
       "  </tbody>\n",
       "</table>\n",
       "</div>"
      ],
      "text/plain": [
       "              index   utilization.gpu [%]   utilization.memory [%]  \\\n",
       "count  85670.000000          85670.000000             85670.000000   \n",
       "mean       0.500000             24.758293                 3.543014   \n",
       "std        0.500003             23.370498                 3.810124   \n",
       "min        0.000000              0.000000                 0.000000   \n",
       "25%        0.000000              0.000000                 0.000000   \n",
       "50%        0.500000             31.000000                 3.000000   \n",
       "75%        1.000000             40.000000                 5.000000   \n",
       "max        1.000000            100.000000                16.000000   \n",
       "\n",
       "        power.draw [W]  \n",
       "count     85670.000000  \n",
       "mean         43.927812  \n",
       "std          15.505347  \n",
       "min          24.500000  \n",
       "25%          25.910000  \n",
       "50%          49.380000  \n",
       "75%          56.360000  \n",
       "max          79.310000  "
      ]
     },
     "execution_count": 64,
     "metadata": {},
     "output_type": "execute_result"
    }
   ],
   "source": [
    "df_energy = pd.read_csv('data/nvidia-smi.csv')\n",
    "df_energy = df_energy[['timestamp', ' index', ' utilization.gpu [%]',\n",
    "       ' utilization.memory [%]', ' power.draw [W]']]\n",
    "df_energy.describe()"
   ]
  },
  {
   "cell_type": "markdown",
   "metadata": {},
   "source": [
    "`E` controls the number of \"burn-in\" epochs that are discarde from the beginning of training in the TSE-E estimator, and `gamma` is a decay rate for the TSE-EMA estimator. Recommended values from the paper are used as defaults."
   ]
  },
  {
   "cell_type": "code",
   "execution_count": 65,
   "metadata": {},
   "outputs": [],
   "source": [
    "from tpe import TrainingSpeedEstimator\n",
    "\n",
    "estimator = TrainingSpeedEstimator(E=1, gamma=0.999)"
   ]
  },
  {
   "cell_type": "markdown",
   "metadata": {},
   "source": [
    "The TSE values can be used to predict the rank order of the performance of different architectures or hyperparameter configurations, or to directly predict the performance of a network trained to convergence."
   ]
  },
  {
   "cell_type": "code",
   "execution_count": 66,
   "metadata": {},
   "outputs": [
    {
     "data": {
      "text/plain": [
       "{'tse': 129.8276312691825,\n",
       " 'tsee': 5.670970326378232,\n",
       " 'tseema': 134.53728970599116,\n",
       " 'T_end': 30.0,\n",
       " 'energy_per_epoch (kJ)': 0.7100424525,\n",
       " 'energy_per_step (kJ)': 0.011270515119047619}"
      ]
     },
     "execution_count": 66,
     "metadata": {},
     "output_type": "execute_result"
    }
   ],
   "source": [
    "tpe_dict = estimator.estimate(df, 10, df_energy=df_energy) # use up to first 10 epochs for estimation\n",
    "tpe_dict"
   ]
  },
  {
   "cell_type": "markdown",
   "metadata": {},
   "source": [
    "Show training loss as a function of energy budget."
   ]
  },
  {
   "cell_type": "code",
   "execution_count": 68,
   "metadata": {},
   "outputs": [],
   "source": [
    "eps = tpe_dict['energy_per_step (kJ)']\n",
    "\n",
    "df['energy_consumed'] = (df['step'] + 1) * eps\n"
   ]
  },
  {
   "cell_type": "code",
   "execution_count": 69,
   "metadata": {},
   "outputs": [
    {
     "data": {
      "text/plain": [
       "Text(0.5, 0, 'Total energy consumed (kJ)')"
      ]
     },
     "execution_count": 69,
     "metadata": {},
     "output_type": "execute_result"
    },
    {
     "data": {
      "image/png": "[encoded data removed]",
      "text/plain": [
       "<Figure size 432x288 with 1 Axes>"
      ]
     },
     "metadata": {
      "needs_background": "light"
     },
     "output_type": "display_data"
    }
   ],
   "source": [
    "\n",
    "fig = sns.scatterplot(data=df, x='energy_consumed', y='train_loss_step', edgecolor='none',\n",
    "                    )\n",
    "plt.xlabel('Total energy consumed (kJ)')"
   ]
  }
 ],
 "metadata": {
  "interpreter": {
   "hash": "0d1a1d6214cf1d05c57a5553ca9b132dc10783f06e2a533ccedcb1463f3cc5db"
  },
  "kernelspec": {
   "display_name": "Python 3.9.5 64-bit ('base': conda)",
   "language": "python",
   "name": "python3"
  },
  "language_info": {
   "codemirror_mode": {
    "name": "ipython",
    "version": 3
   },
   "file_extension": ".py",
   "mimetype": "text/x-python",
   "name": "python",
   "nbconvert_exporter": "python",
   "pygments_lexer": "ipython3",
   "version": "3.8.10"
  },
  "orig_nbformat": 4
 },
 "nbformat": 4,
 "nbformat_minor": 2
}
