{
 "cells": [
  {
   "cell_type": "markdown",
   "metadata": {},
   "source": [
    "# LitMatter Rapid Prototyping\n",
    "* This notebook shows how to experiment with Graph Neural Networks using the LitMatter template.  \n",
    "* In this example, we train a [DimeNet](https://arxiv.org/abs/2003.03123) model on the [QM9](https://www.nature.com/articles/sdata201422) dataset.  \n",
    "* The training workflow shown here can be scaled to hundreds of GPUs by changing a single keyword argument!"
   ]
  },
  {
   "cell_type": "code",
   "execution_count": null,
   "metadata": {},
   "outputs": [],
   "source": [
    "import numpy as np\n",
    "import os\n",
    "\n",
    "from torch_geometric.datasets import QM9\n",
    "from torch_geometric.nn import DimeNet\n",
    "\n",
    "from pytorch_lightning.metrics import Accuracy\n",
    "from pytorch_lightning.callbacks import ModelCheckpoint\n",
    "from pytorch_lightning import (LightningDataModule, LightningModule, Trainer,\n",
    "                               seed_everything)\n",
    "\n",
    "from lit_models.models import LitDimeNet\n",
    "from lit_data.data import LitQM9"
   ]
  },
  {
   "cell_type": "code",
   "execution_count": null,
   "metadata": {},
   "outputs": [],
   "source": [
    "seed_everything(11)"
   ]
  },
  {
   "cell_type": "markdown",
   "metadata": {},
   "source": [
    "### Load data\n",
    "Datasets are organized as a `pytorch_lightning.LightningDataModule`. All data downloading, processing, and transformations are defined in the `DataModule`. For simplicity, here we use the QM9 dataset available through PyTorch Geometric."
   ]
  },
  {
   "cell_type": "code",
   "execution_count": null,
   "metadata": {},
   "outputs": [],
   "source": [
    "dataset = QM9('data/QM9')\n",
    "target = 0\n",
    "_, datasets = DimeNet.from_qm9_pretrained('data/QM9', dataset, target)\n",
    "datamodule = LitQM9(datasets)\n",
    "datamodule.setup()"
   ]
  },
  {
   "cell_type": "markdown",
   "metadata": {},
   "source": [
    "### Set up model\n",
    "The model is defined in a `pytorch_lightning.LightningModule`. Any PyTorch or PyTorch Geometric code can be used to build the model."
   ]
  },
  {
   "cell_type": "code",
   "execution_count": null,
   "metadata": {},
   "outputs": [],
   "source": [
    "model = LitDimeNet(target)"
   ]
  },
  {
   "cell_type": "code",
   "execution_count": null,
   "metadata": {},
   "outputs": [],
   "source": [
    "model.summarize()"
   ]
  },
  {
   "cell_type": "code",
   "execution_count": null,
   "metadata": {},
   "outputs": [],
   "source": [
    "# add any desired callbacks\n",
    "checkpoint_callback = ModelCheckpoint(monitor='val_loss', save_top_k=1)"
   ]
  },
  {
   "cell_type": "code",
   "execution_count": null,
   "metadata": {},
   "outputs": [],
   "source": [
    "trainer = Trainer(gpus=-1,  # use all available GPUs on each node\n",
    "                  num_nodes=1,  # change to number of available nodes\n",
    "                 accelerator='ddp',\n",
    "                 max_epochs=5,\n",
    "                 callbacks=[checkpoint_callback],\n",
    "                 )"
   ]
  },
  {
   "cell_type": "markdown",
   "metadata": {},
   "source": [
    "### Model training and evaluation"
   ]
  },
  {
   "cell_type": "code",
   "execution_count": null,
   "metadata": {},
   "outputs": [],
   "source": [
    "trainer.fit(model, datamodule=datamodule)"
   ]
  },
  {
   "cell_type": "code",
   "execution_count": null,
   "metadata": {},
   "outputs": [],
   "source": [
    "trainer.test()"
   ]
  },
  {
   "cell_type": "markdown",
   "metadata": {},
   "source": [
    "That's it! By changing the `num_nodes` argument, training can be distributed across all available GPUs. For longer training jobs on an HPC cluster, see the provided example batch scripts."
   ]
  }
 ],
 "metadata": {
  "kernelspec": {
   "display_name": "Python [conda env:.conda-litmatter]",
   "language": "python",
   "name": "conda-env-.conda-litmatter-py"
  },
  "language_info": {
   "codemirror_mode": {
    "name": "ipython",
    "version": 3
   },
   "file_extension": ".py",
   "mimetype": "text/x-python",
   "name": "python",
   "nbconvert_exporter": "python",
   "pygments_lexer": "ipython3",
   "version": "3.8.12"
  }
 },
 "nbformat": 4,
 "nbformat_minor": 4
}
