{
 "cells": [
  {
   "cell_type": "markdown",
   "metadata": {
    "colab_type": "text",
    "id": "LOooVC6OpbFs"
   },
   "source": [
    "#  Synthetic Feasibility\n",
    "\n",
    "当运行大规模枚举时，合成可行性是一个问题。通常，被列举的分子很难制造，因此不值得检验，即使它们的其他化学性质在计算机模拟中很好。本教程将介绍如何训练[ScScore](https://pubs.acs.org/doi/abs/10.1021/acs.jcim.7b00622)模型[1]。\n",
    "\n",
    "该模型的思想是在一对分子上进行训练，其中一个分子比另一个分子“更复杂”。然后神经网络就可以做出分数，试图保持分子的这种成对排序。最终的结果是一个可以给出分子相对复杂性的模型。\n",
    "\n",
    "这篇论文对reaxys中的每一个反应进行了训练，宣称产物比反应物更复杂。由于这个训练集非常昂贵，我们将对任意分子进行训练，如果一个分子的SMILES字符串较长，则该分子声明为更复杂的分子。在现实世界中，你可以使用任何对项目有意义的复杂性度量。\n",
    "\n",
    "\n",
    "在本教程中，我们将使用 Tox21 数据集来训练我们简单的合成可行性模型。\n",
    "\n",
    "## Colab\n",
    "\n",
    "This tutorial and the rest in this sequence can be done in Google colab. If you'd like to open this notebook in colab, you can use the following link.\n",
    "\n",
    "[![Open In Colab](https://colab.research.google.com/assets/colab-badge.svg)](https://colab.research.google.com/github/deepchem/deepchem/blob/master/examples/tutorials/Synthetic_Feasibility_Scoring.ipynb)\n",
    "\n"
   ]
  },
  {
   "cell_type": "code",
   "execution_count": null,
   "metadata": {
    "colab": {
     "base_uri": "https://localhost:8080/",
     "height": 361
    },
    "colab_type": "code",
    "id": "pveyx31SFSp7",
    "outputId": "9ab163f3-3f4b-4a12-9494-cc41c730353c"
   },
   "outputs": [],
   "source": [
    "!pip install --pre deepchem\n",
    "import deepchem\n",
    "deepchem.__version__"
   ]
  },
  {
   "cell_type": "markdown",
   "metadata": {},
   "source": [
    "# 创建数据集\n",
    "\n",
    "让我们从加载一些分子开始。我们加载 Tox21，指定 `splitter=None`，这样所有内容都将作为单个数据集返回。"
   ]
  },
  {
   "cell_type": "code",
   "execution_count": 1,
   "metadata": {
    "colab": {
     "base_uri": "https://localhost:8080/",
     "height": 88
    },
    "colab_type": "code",
    "id": "d3QTjXKwpbF9",
    "outputId": "94711095-67df-4616-89a1-47246f6629aa"
   },
   "outputs": [],
   "source": [
    "import deepchem as dc\n",
    "tasks, datasets, transformers = dc.molnet.load_tox21(featurizer='Raw', splitter=None)\n",
    "molecules = datasets[0].X"
   ]
  },
  {
   "cell_type": "markdown",
   "metadata": {
    "colab_type": "text",
    "id": "Obts3nFSpbGC"
   },
   "source": [
    "因为 ScScore 是根据相对复杂度进行训练的，所以我们希望数据集中的 `X` 张量具有3个维度 `(sample_id, molecule_id, features)` 。 `molecule_id` 维度的大小为2，因为一个样本是一对分子。如果第一个分子比第二个分子更复杂，则标记为1。下面我们介绍的函数 `create_dataset` 从给定的列表中随机提取微笑字符串对，并根据这种复杂性度量对它们进行排序。\n",
    "\n",
    "在现实世界中，你可以使用购买成本或所需反应步骤数作为复杂度评分。"
   ]
  },
  {
   "cell_type": "code",
   "execution_count": 2,
   "metadata": {
    "colab": {},
    "colab_type": "code",
    "id": "CN8YlS6YpbGD"
   },
   "outputs": [],
   "source": [
    "from rdkit import Chem\n",
    "import random\n",
    "from deepchem.feat import CircularFingerprint\n",
    "import numpy as np\n",
    "\n",
    "\n",
    "def create_dataset(fingerprints, smiles_lens, ds_size=100000):\n",
    "    \"\"\"\n",
    "    m1: list of np.Array\n",
    "        fingerprints for molecules\n",
    "    m2: list of int\n",
    "        length of a molecules SMILES string\n",
    "    \n",
    "    returns:\n",
    "        dc.data.Dataset for input into ScScore Model\n",
    "        \n",
    "    Dataset.X\n",
    "        shape is (sample_id, molecule_id, features)\n",
    "    Dataset.y\n",
    "        shape is (sample_id,)\n",
    "        values is 1 if the 0th index molecule is more complex\n",
    "                  0 if the 1st index molecule is more complex\n",
    "    \"\"\"\n",
    "    X, y = [], []\n",
    "    all_data = list(zip(fingerprints, smiles_lens))\n",
    "    while len(y) < ds_size:\n",
    "        i1 = random.randrange(0, len(smiles_lens))\n",
    "        i2 = random.randrange(0, len(smiles_lens))\n",
    "        m1 = all_data[i1]\n",
    "        m2 = all_data[i2]\n",
    "        if m1[1] == m2[1]:\n",
    "            continue\n",
    "        if m1[1] > m2[1]:\n",
    "            y.append(1.0)\n",
    "        else:\n",
    "            y.append(0.0)\n",
    "        X.append([m1[0], m2[0]])\n",
    "    return dc.data.NumpyDataset(np.array(X), np.expand_dims(np.array(y), axis=1))"
   ]
  },
  {
   "cell_type": "markdown",
   "metadata": {
    "colab_type": "text",
    "id": "Y57_UmtSpbGN"
   },
   "source": [
    "复杂性排序器就位后，我们现在可以构建数据集了。让我们从随机地将分子列表分成训练集和测试集开始。"
   ]
  },
  {
   "cell_type": "code",
   "execution_count": 3,
   "metadata": {
    "colab": {},
    "colab_type": "code",
    "id": "PAhEBQSKpbGP"
   },
   "outputs": [],
   "source": [
    "molecule_ds = dc.data.NumpyDataset(np.array(molecules))\n",
    "splitter = dc.splits.RandomSplitter()\n",
    "train_mols, test_mols = splitter.train_test_split(molecule_ds)"
   ]
  },
  {
   "cell_type": "markdown",
   "metadata": {
    "colab_type": "text",
    "id": "oREWA_U2pbGW"
   },
   "source": [
    "我们将用具有手性的 ECFP 指纹（与源论文匹配）对所有分子进行特征化，然后使用上面定义的函数构建我们的成对数据集。"
   ]
  },
  {
   "cell_type": "code",
   "execution_count": 4,
   "metadata": {
    "colab": {},
    "colab_type": "code",
    "id": "r2M2fvvapbGY"
   },
   "outputs": [],
   "source": [
    "n_features = 1024\n",
    "featurizer = dc.feat.CircularFingerprint(size=n_features, radius=2, chiral=True)\n",
    "train_features = featurizer.featurize(train_mols.X)\n",
    "train_smiles_len = [len(Chem.MolToSmiles(x)) for x in train_mols.X]\n",
    "train_dataset = create_dataset(train_features, train_smiles_len)"
   ]
  },
  {
   "cell_type": "markdown",
   "metadata": {
    "colab_type": "text",
    "id": "5jL9qNebpbGc"
   },
   "source": [
    "现在我们已经创建了数据集，让我们在这个数据集上训练一个 `ScScoreModel`。"
   ]
  },
  {
   "cell_type": "code",
   "execution_count": 5,
   "metadata": {
    "colab": {
     "base_uri": "https://localhost:8080/",
     "height": 34
    },
    "colab_type": "code",
    "id": "AZhS38JLpbGd",
    "outputId": "471f4813-1d0d-4e42-819a-f703e0c407a3"
   },
   "outputs": [
    {
     "data": {
      "text/plain": [
       "0.03494557857513428"
      ]
     },
     "execution_count": 5,
     "metadata": {},
     "output_type": "execute_result"
    }
   ],
   "source": [
    "model = dc.models.ScScoreModel(n_features=n_features)\n",
    "model.fit(train_dataset, nb_epoch=20)"
   ]
  },
  {
   "cell_type": "markdown",
   "metadata": {
    "colab_type": "text",
    "id": "nsBROH4WpbGi"
   },
   "source": [
    "# 模型性能\n",
    "\n",
    "让我们来评估一下这个模型在我们的抵制分子上的表现。SaScores 应该从从未见过的分子追踪 SMILES 字符串的长度。"
   ]
  },
  {
   "cell_type": "code",
   "execution_count": 6,
   "metadata": {
    "colab": {},
    "colab_type": "code",
    "id": "bIDZ3sZfpbGj"
   },
   "outputs": [],
   "source": [
    "import matplotlib.pyplot as plt\n",
    "%matplotlib inline"
   ]
  },
  {
   "cell_type": "code",
   "execution_count": 7,
   "metadata": {
    "colab": {},
    "colab_type": "code",
    "id": "hsJdJTZKpbGu"
   },
   "outputs": [],
   "source": [
    "mol_scores = model.predict_mols(test_mols.X)\n",
    "smiles_lengths = [len(Chem.MolToSmiles(x)) for x in test_mols.X]"
   ]
  },
  {
   "cell_type": "markdown",
   "metadata": {
    "colab_type": "text",
    "id": "J9n6wK8fpbG1"
   },
   "source": [
    "现在使用 matplotlib 绘制分子 smiles 字符串的长度与 SaScore 的比较。"
   ]
  },
  {
   "cell_type": "code",
   "execution_count": 8,
   "metadata": {
    "colab": {
     "base_uri": "https://localhost:8080/",
     "height": 920
    },
    "colab_type": "code",
    "id": "CNgjQWQRpbG4",
    "outputId": "28938618-5e6a-4470-cfef-b0a75878843f"
   },
   "outputs": [
    {
     "data": {
      "image/png": "[encoded data removed]",
      "text/plain": [
       "<Figure size 1440x1152 with 1 Axes>"
      ]
     },
     "metadata": {
      "needs_background": "light"
     },
     "output_type": "display_data"
    }
   ],
   "source": [
    "plt.figure(figsize=(20,16))\n",
    "plt.scatter(smiles_lengths, mol_scores)\n",
    "plt.xlim(0,80)\n",
    "plt.xlabel(\"SMILES length\")\n",
    "plt.ylabel(\"ScScore\")\n",
    "plt.show()"
   ]
  },
  {
   "cell_type": "markdown",
   "metadata": {
    "colab_type": "text",
    "id": "riCGU3D4pbG8"
   },
   "source": [
    "正如我们所看到的，模型通常跟踪 SMILES 的长度。它在8到30个字符之间有很好的丰富，并且大大小小的 SMILES 字符串都非常准确。\n",
    "\n",
    "现在你可以用比 SMILES 长度更有意义的度量来训练你自己的模型了！"
   ]
  },
  {
   "cell_type": "markdown",
   "metadata": {
    "colab_type": "text",
    "id": "eDugxI2PpbG-"
   },
   "source": [
    "# Congratulations! Time to join the Community!\n",
    "\n",
    "Congratulations on completing this tutorial notebook! If you enjoyed working through the tutorial, and want to continue working with DeepChem, we encourage you to finish the rest of the tutorials in this series. You can also help the DeepChem community in the following ways:\n",
    "\n",
    "## Star DeepChem on [GitHub](https://github.com/deepchem/deepchem)\n",
    "This helps build awareness of the DeepChem project and the tools for open source drug discovery that we're trying to build.\n",
    "\n",
    "## Join the DeepChem Gitter\n",
    "The DeepChem [Gitter](https://gitter.im/deepchem/Lobby) hosts a number of scientists, developers, and enthusiasts interested in deep learning for the life sciences. Join the conversation!\n",
    "\n",
    "\n",
    "# 参考文献：\n",
    "\n",
    "[1] https://pubs.acs.org/doi/abs/10.1021/acs.jcim.7b00622"
   ]
  }
 ],
 "metadata": {
  "accelerator": "GPU",
  "colab": {
   "name": "15_Synthetic_Feasibility_Scoring.ipynb",
   "provenance": []
  },
  "kernelspec": {
   "display_name": "Python 3.9.13 ('base': conda)",
   "language": "python",
   "name": "python3"
  },
  "language_info": {
   "codemirror_mode": {
    "name": "ipython",
    "version": 3
   },
   "file_extension": ".py",
   "mimetype": "text/x-python",
   "name": "python",
   "nbconvert_exporter": "python",
   "pygments_lexer": "ipython3",
   "version": "3.9.13"
  },
  "vscode": {
   "interpreter": {
    "hash": "97bbad94c05511dd6a71d18a7299b8b07ff1a59afdab4f3921d39182c5dc1b32"
   }
  }
 },
 "nbformat": 4,
 "nbformat_minor": 1
}
