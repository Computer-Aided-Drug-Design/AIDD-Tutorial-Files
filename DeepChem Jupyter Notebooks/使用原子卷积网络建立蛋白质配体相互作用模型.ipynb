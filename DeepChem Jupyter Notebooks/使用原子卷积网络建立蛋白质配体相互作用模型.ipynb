{
 "cells": [
  {
   "cell_type": "markdown",
   "metadata": {
    "id": "f7FPLsj4nB-6"
   },
   "source": [
    "#  Modeling Protein-Ligand Interactions with Atomic Convolutions\n",
    "By [Nathan C. Frey](https://ncfrey.github.io/) | [Twitter](https://twitter.com/nc_frey) and [Bharath Ramsundar](https://rbharath.github.io/) | [Twitter](https://twitter.com/rbhar90)\n",
    "\n",
    "This DeepChem tutorial introduces the [Atomic Convolutional Neural Network](https://arxiv.org/pdf/1703.10603.pdf). We'll see the structure of the `AtomicConvModel` and write a simple program to run Atomic Convolutions.\n",
    "\n",
    "### ACNN Architecture\n",
    "ACNN’s directly exploit the local three-dimensional structure of molecules to hierarchically learn more complex chemical features by optimizing both the model and featurization simultaneously in an end-to-end fashion.\n",
    "\n",
    "The atom type convolution makes use of a neighbor-listed distance matrix to extract features encoding local chemical environments from an input representation (Cartesian atomic coordinates) that does not necessarily contain spatial locality. The following methods are used to build the ACNN architecture:\n",
    "\n",
    "- __Distance Matrix__  \n",
    "The distance matrix $R$ is constructed from the Cartesian atomic coordinates $X$. It calculates distances from the distance tensor $D$. The distance matrix construction accepts as input a $(N, 3)$ coordinate matrix $C$. This matrix is “neighbor listed” into a $(N, M)$ matrix $R$.\n",
    "\n",
    "```python\n",
    "    R = tf.reduce_sum(tf.multiply(D, D), 3)     # D: Distance Tensor\n",
    "    R = tf.sqrt(R)                              # R: Distance Matrix\n",
    "    return R\n",
    "```\n",
    "\n",
    "- **Atom type convolution**  \n",
    "The output of the atom type convolution is constructed from the distance matrix $R$ and atomic number matrix $Z$. The matrix $R$ is fed into a (1x1) filter with stride 1 and depth of $N_{at}$ , where $N_{at}$ is the number of unique atomic numbers (atom types) present in the molecular system. The atom type convolution kernel is a step function that operates on the neighbor distance matrix $R$.\n",
    "\n",
    "- **Radial Pooling layer**  \n",
    "Radial Pooling is basically a dimensionality reduction process that down-samples the output of the atom type convolutions. The reduction process prevents overfitting by providing an abstracted form of representation through feature binning, as well as reducing the number of parameters learned.\n",
    "Mathematically, radial pooling layers pool over tensor slices (receptive fields) of size (1x$M$x1) with stride 1 and a depth of $N_r$, where $N_r$ is the number of desired radial filters and $M$ is the maximum number of neighbors.\n",
    "\n",
    "- **Atomistic fully connected network**  \n",
    "Atomic Convolution layers are stacked by feeding the flattened ($N$, $N_{at}$ $\\cdot$ $N_r$) output of the radial pooling layer into the atom type convolution operation. Finally, we feed the tensor row-wise (per-atom) into a fully-connected network. The\n",
    "same fully connected weights and biases are used for each atom in a given molecule.\n",
    "\n",
    "Now that we have seen the structural overview of ACNNs, we'll try to get deeper into the model and see how we can train it and what we expect as the output.\n",
    "\n",
    "For the training, we will use the publicly available PDBbind dataset. In this example, every row reflects a protein-ligand complex and the target is the binding affinity ($K_i$) of the ligand to the protein in the complex.\n",
    "\n",
    "## Colab\n",
    "\n",
    "This tutorial and the rest in this sequence are designed to be done in Google colab. If you'd like to open this notebook in colab, you can use the following link.\n",
    "\n",
    "[![Open In Colab](https://colab.research.google.com/assets/colab-badge.svg)](https://colab.research.google.com/github/deepchem/deepchem/blob/master/examples/tutorials/Modeling_Protein_Ligand_Interactions_With_Atomic_Convolutions.ipynb)\n",
    "\n",
    "## Setup\n",
    "\n",
    "To run DeepChem within Colab, you'll need to run the following cell of installation commands. This will take about 5 minutes to run to completion and install your environment."
   ]
  },
  {
   "cell_type": "code",
   "execution_count": null,
   "metadata": {
    "id": "Y2xCQyOInB_D"
   },
   "outputs": [],
   "source": [
    "!pip install -q condacolab\n",
    "import condacolab\n",
    "condacolab.install()\n",
    "!/usr/local/bin/conda info -e"
   ]
  },
  {
   "cell_type": "code",
   "execution_count": null,
   "metadata": {
    "id": "WKxOGlhhMrC7"
   },
   "outputs": [],
   "source": [
    "!/usr/local/bin/conda install -c conda-forge pycosat mdtraj pdbfixer openmm -y -q  # needed for AtomicConvs"
   ]
  },
  {
   "cell_type": "code",
   "execution_count": null,
   "metadata": {
    "id": "jFQmra_fFE8U"
   },
   "outputs": [],
   "source": [
    "!pip install --pre deepchem\n",
    "import deepchem\n",
    "deepchem.__version__"
   ]
  },
  {
   "cell_type": "code",
   "execution_count": null,
   "metadata": {
    "id": "W1cCOOYXnB_L"
   },
   "outputs": [],
   "source": [
    "import deepchem as dc\n",
    "import os\n",
    "\n",
    "import numpy as np\n",
    "import tensorflow as tf\n",
    "\n",
    "import matplotlib.pyplot as plt\n",
    "\n",
    "from rdkit import Chem\n",
    "\n",
    "from deepchem.molnet import load_pdbbind\n",
    "from deepchem.models import AtomicConvModel\n",
    "from deepchem.feat import AtomicConvFeaturizer"
   ]
  },
  {
   "cell_type": "markdown",
   "metadata": {
    "id": "fACLMson_-vk"
   },
   "source": [
    "### Getting protein-ligand data\n",
    "If you worked through [Tutorial 13](https://github.com/deepchem/deepchem/blob/master/examples/tutorials/Modeling_Protein_Ligand_Interactions.ipynb) on modeling protein-ligand interactions, you'll already be familiar with how to obtain a set of data from PDBbind for training our model. Since we explored molecular complexes in detail in the [previous tutorial]((https://github.com/deepchem/deepchem/blob/master/examples/tutorials/Modeling_Protein_Ligand_Interactions.ipynb)), this time we'll simply initialize an `AtomicConvFeaturizer` and load the PDBbind dataset directly using MolNet."
   ]
  },
  {
   "cell_type": "code",
   "execution_count": null,
   "metadata": {
    "id": "_qu5DlVa3aV3"
   },
   "outputs": [],
   "source": [
    "f1_num_atoms = 100  # maximum number of atoms to consider in the ligand\n",
    "f2_num_atoms = 1000  # maximum number of atoms to consider in the protein\n",
    "max_num_neighbors = 12  # maximum number of spatial neighbors for an atom\n",
    "\n",
    "acf = AtomicConvFeaturizer(frag1_num_atoms=f1_num_atoms,\n",
    "                      frag2_num_atoms=f2_num_atoms,\n",
    "                      complex_num_atoms=f1_num_atoms+f2_num_atoms,\n",
    "                      max_num_neighbors=max_num_neighbors,\n",
    "                      neighbor_cutoff=4)"
   ]
  },
  {
   "cell_type": "markdown",
   "metadata": {
    "id": "pyH9KUkvxlxk"
   },
   "source": [
    "`load_pdbbind` allows us to specify if we want to use the entire protein or only the binding pocket (`pocket=True`) for featurization. Using only the pocket saves memory and speeds up the featurization. We can also use the \"core\" dataset of ~200 high-quality complexes for rapidly testing our model, or the larger \"refined\" set of nearly 5000 complexes for more datapoints and more robust training/validation. On Colab, it takes only a minute to featurize the core PDBbind set! This is pretty incredible, and it means you can quickly experiment with different featurizations and model architectures."
   ]
  },
  {
   "cell_type": "code",
   "execution_count": null,
   "metadata": {
    "colab": {
     "base_uri": "https://localhost:8080/"
    },
    "id": "Z9eyanh35qyj",
    "outputId": "1bdc22d2-bf73-48cc-9f31-ecc0f56cf4bc"
   },
   "outputs": [
    {
     "name": "stderr",
     "output_type": "stream",
     "text": [
      "/usr/local/lib/python3.7/dist-packages/numpy/core/_asarray.py:83: VisibleDeprecationWarning: Creating an ndarray from ragged nested sequences (which is a list-or-tuple of lists-or-tuples-or ndarrays with different lengths or shapes) is deprecated. If you meant to do this, you must specify 'dtype=object' when creating the ndarray\n",
      "  return array(a, dtype, copy=False, order=order)\n"
     ]
    },
    {
     "name": "stdout",
     "output_type": "stream",
     "text": [
      "CPU times: user 43.2 s, sys: 18.6 s, total: 1min 1s\n",
      "Wall time: 1min 10s\n"
     ]
    }
   ],
   "source": [
    "%%time\n",
    "tasks, datasets, transformers = load_pdbbind(featurizer=acf,\n",
    "                                             save_dir='.',\n",
    "                                             data_dir='.',\n",
    "                                             pocket=True,\n",
    "                                             reload=False,\n",
    "                                             set_name='core')"
   ]
  },
  {
   "cell_type": "markdown",
   "metadata": {
    "tags": []
   },
   "source": [
    "Unfortunately, if you try to use the \"refined\" dataset, there are some complexes that cannot be featurized. To resolve this issue, rather than increasing `complex_num_atoms`, simply omit the lines of the dataset that have an `x` value of `None`"
   ]
  },
  {
   "cell_type": "code",
   "execution_count": null,
   "metadata": {},
   "outputs": [],
   "source": [
    "class MyTransformer(dc.trans.Transformer):\n",
    "  def transform_array(x, y, w, ids):\n",
    "    kept_rows = x != None\n",
    "    return x[kept_rows], y[kept_rows], w[kept_rows], ids[kept_rows],\n",
    "\n",
    "datasets = [d.transform(MyTransformer) for d in datasets]"
   ]
  },
  {
   "cell_type": "code",
   "execution_count": null,
   "metadata": {
    "colab": {
     "base_uri": "https://localhost:8080/"
    },
    "id": "EaGn9UbwEdyY",
    "outputId": "6b235d21-88a2-45b0-d6ba-55a4d6a72dd9"
   },
   "outputs": [
    {
     "data": {
      "text/plain": [
       "(<DiskDataset X.shape: (154, 9), y.shape: (154,), w.shape: (154,), ids: ['1mq6' '3pe2' '2wtv' ... '3f3c' '4gqq' '2x00'], task_names: [0]>,\n",
       " <DiskDataset X.shape: (19, 9), y.shape: (19,), w.shape: (19,), ids: ['3ivg' '4de1' '4tmn' ... '2vw5' '1w3l' '2zjw'], task_names: [0]>,\n",
       " <DiskDataset X.shape: (20, 9), y.shape: (20,), w.shape: (20,), ids: ['1kel' '2w66' '2xnb' ... '2qbp' '3lka' '1qi0'], task_names: [0]>)"
      ]
     },
     "execution_count": 21,
     "metadata": {
      "tags": []
     },
     "output_type": "execute_result"
    }
   ],
   "source": [
    "datasets"
   ]
  },
  {
   "cell_type": "code",
   "execution_count": null,
   "metadata": {
    "id": "PQq0lkWIfVoE"
   },
   "outputs": [],
   "source": [
    "train, val, test = datasets"
   ]
  },
  {
   "cell_type": "markdown",
   "metadata": {
    "id": "GNilV3VXnB_j"
   },
   "source": [
    "### Training the model"
   ]
  },
  {
   "cell_type": "markdown",
   "metadata": {
    "id": "WufupHBPnB_k"
   },
   "source": [
    "Now that we've got our dataset, let's go ahead and initialize an `AtomicConvModel` to train. Keep the input parameters the same as those used in `AtomicConvFeaturizer`, or else we'll get errors. `layer_sizes` controls the number of layers and the size of each dense layer in the network. We choose these hyperparameters to be the same as those used in the [original paper](https://arxiv.org/pdf/1703.10603.pdf)."
   ]
  },
  {
   "cell_type": "code",
   "execution_count": null,
   "metadata": {
    "id": "ErBNNGH55-_B"
   },
   "outputs": [],
   "source": [
    "acm = AtomicConvModel(n_tasks=1,\n",
    "                      frag1_num_atoms=f1_num_atoms,\n",
    "                      frag2_num_atoms=f2_num_atoms,\n",
    "                      complex_num_atoms=f1_num_atoms+f2_num_atoms,\n",
    "                      max_num_neighbors=max_num_neighbors,\n",
    "                      batch_size=12,\n",
    "                      layer_sizes=[32, 32, 16],\n",
    "                      learning_rate=0.003,\n",
    "                      )"
   ]
  },
  {
   "cell_type": "code",
   "execution_count": null,
   "metadata": {
    "id": "4cNdP1b1hEQM"
   },
   "outputs": [],
   "source": [
    "losses, val_losses = [], []"
   ]
  },
  {
   "cell_type": "code",
   "execution_count": null,
   "metadata": {
    "colab": {
     "base_uri": "https://localhost:8080/"
    },
    "id": "5g6b2qEwNwdL",
    "outputId": "3caa11ac-18dd-4528-f966-dee61d2c508d"
   },
"outputs": [
        {
          "output_type": "stream",
          "name": "stdout",
          "text": [
            "CPU times: user 2min 41s, sys: 11.4 s, total: 2min 53s\n",
            "Wall time: 2min 47s\n"
          ]
        }
      ],
   "source": [
    "%%time\n",
    "max_epochs = 50\n",
    "\n",
    "metric = dc.metrics.Metric(dc.metrics.score_function.rms_score)\n",
    "step_cutoff = len(train)//12\n",
    "def val_cb(model, step):\n",
    "  if step%step_cutoff!=0:\n",
    "      return\n",
    "  val_losses.append(model.evaluate(val, metrics=[metric])['rms_score']**2)  # L2 Loss\n",
    "  losses.append(model.evaluate(train, metrics=[metric])['rms_score']**2)  # L2 Loss\n",
    "\n",
    "acm.fit(train, nb_epoch=max_epochs, max_checkpoints_to_keep=1,\n",
    "                callbacks=[val_cb])"
   ]
  },
  {
   "cell_type": "markdown",
   "metadata": {
    "id": "aTFdba_KDDUQ"
   },
   "source": [
    "The loss curves are not exactly smooth, which is unsurprising because we are using 154 training and 19 validation datapoints. Increasing the dataset size may help with this, but will also require greater computational resources."
   ]
  },
  {
   "cell_type": "code",
   "execution_count": null,
   "metadata": {
    "colab": {
     "base_uri": "https://localhost:8080/",
     "height": 265
    },
    "id": "pn4QWM1bizw0",
    "outputId": "f6399595-4622-41d0-80d1-92df68850cc2"
   },
 "outputs": [
        {
          "output_type": "display_data",
          "data": {
            "image/png": "[encoded data removed]",
            "text/plain": [
              "<Figure size 432x288 with 1 Axes>"
            ]
          },
          "metadata": {
            "needs_background": "light"
          }
        }
      ],
   "source": [
    "f, ax = plt.subplots()\n",
    "ax.scatter(range(len(losses)), losses, label='train loss')\n",
    "ax.scatter(range(len(val_losses)), val_losses, label='val loss')\n",
    "plt.legend(loc='upper right');"
   ]
  },
  {
   "cell_type": "markdown",
   "metadata": {
    "id": "KzGW3ztODYzV"
   },
   "source": [
    "The [ACNN paper](https://arxiv.org/pdf/1703.10603.pdf) showed a Pearson $R^2$ score of 0.912 and 0.448 for a random 80/20 split of the PDBbind core train/test sets. Here, we've used an 80/10/10 training/validation/test split and achieved similar performance for the training set (0.943). We can see from the performance on the training, validation, and test sets (and from the results in the paper) that the ACNN can learn chemical interactions from small training datasets, but struggles to generalize. Still, it is pretty amazing that we can train an `AtomicConvModel` with only a few lines of code and start predicting binding affinities!  \n",
    "From here, you can experiment with different hyperparameters, more challenging splits, and the \"refined\" set of PDBbind to see if you can reduce overfitting and come up with a more robust model."
   ]
  },
  {
   "cell_type": "code",
   "execution_count": null,
   "metadata": {
    "colab": {
     "base_uri": "https://localhost:8080/"
    },
    "id": "VcDLwf-20tci",
    "outputId": "35ae9353-5dd8-4397-bbf0-d58cfebb6584"
   },
   "outputs": [
    {
     "name": "stdout",
     "output_type": "stream",
     "text": [
      "train {'pearson_r2_score': 0.9311347622675604\n",
      "val {'pearson_r2_score': 0.5162870575992874}\n",
      "test {'pearson_r2_score': 0.4756633065901693}\n"
     ]
    }
   ],
   "source": [
    "score = dc.metrics.Metric(dc.metrics.score_function.pearson_r2_score)\n",
    "for tvt, ds in zip(['train', 'val', 'test'], datasets):\n",
    "  print(tvt, acm.evaluate(ds, metrics=[score]))"
   ]
  },
  {
   "cell_type": "markdown",
   "metadata": {
    "id": "FrIO9CSgAHlz"
   },
   "source": [
    "### Further reading\n",
    "We have explored the ACNN architecture and used the PDBbind dataset to train an ACNN to predict protein-ligand binding energies. For more information, read the original paper that introduced ACNNs: Gomes, Joseph, et al. \"Atomic convolutional networks for predicting protein-ligand binding affinity.\" [arXiv preprint arXiv:1703.10603](https://arxiv.org/abs/1703.10603) (2017). There are many other methods and papers on predicting binding affinities. Here are a few interesting ones to check out: predictions using [only ligands or proteins](https://www.frontiersin.org/articles/10.3389/fphar.2020.00069/full), [molecular docking with deep learning](https://chemrxiv.org/articles/preprint/GNINA_1_0_Molecular_Docking_with_Deep_Learning/13578140), and [AtomNet](https://arxiv.org/abs/1510.02855)."
   ]
  },
  {
   "cell_type": "markdown",
   "metadata": {
    "id": "wqS0gGXunB_s"
   },
   "source": [
    "# Congratulations! Time to join the Community!\n",
    "\n",
    "Congratulations on completing this tutorial notebook! If you enjoyed working through the tutorial, and want to continue working with DeepChem, we encourage you to finish the rest of the tutorials in this series. You can also help the DeepChem community in the following ways:\n",
    "\n",
    "## Star DeepChem on [GitHub](https://github.com/deepchem/deepchem)\n",
    "This helps build awareness of the DeepChem project and the tools for open source drug discovery that we're trying to build.\n",
    "\n",
    "## Join the DeepChem Gitter\n",
    "The DeepChem [Gitter](https://gitter.im/deepchem/Lobby) hosts a number of scientists, developers, and enthusiasts interested in deep learning for the life sciences. Join the conversation!"
   ]
  }
 ],
 "metadata": {
  "accelerator": "GPU",
  "colab": {
   "collapsed_sections": [],
   "name": "14_Modeling_Protein_Ligand_Interactions_With_Atomic_Convolutions.ipynb",
   "provenance": [],
   "toc_visible": true
  },
  "kernelspec": {
   "display_name": "Python 3 (ipykernel)",
   "language": "python",
   "name": "python3"
  },
  "language_info": {
   "codemirror_mode": {
    "name": "ipython",
    "version": 3
   },
   "file_extension": ".py",
   "mimetype": "text/x-python",
   "name": "python",
   "nbconvert_exporter": "python",
   "pygments_lexer": "ipython3",
   "version": "3.8.12"
  }
 },
 "nbformat": 4,
 "nbformat_minor": 4
}
