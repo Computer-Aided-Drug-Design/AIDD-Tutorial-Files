{
 "cells": [
  {
   "cell_type": "markdown",
   "id": "945435b4",
   "metadata": {},
   "source": [
    "# Pytorch-Lightning Integration for DeepChem Models\n",
    "\n",
    "在本教程中，我们将介绍如何在 [pytorch-lightning](https://www.pytorchlightning.ai/) 框架中设置 deepchem 模型。Lightning 是一个 pytorch 框架，它简化了使用 pytorch 模型的实验过程。pytorch lightning 提供的以下几个关键功能是 deepchem 用户可以发现有用的:\n",
    "\n",
    "1. 多 gpu 训练功能：pytorch-lightning 提供简单的多 gpu、多节点训练。它还简化了跨不同集群基础设施（如 AWS、基于 slurm 的集群）启动多gpu、多节点作业的过程。\n",
    "\n",
    "2. 减少 pytorch 的样板代码：lightning 负责处理诸如 `optimizer.zero_grad(), model.train(), model.eval()` 之类的细节。Lightning 还提供了实验日志功能，例如，无论在 CPU、GPU、多节点上进行训练，用户都可以在训练器内部使用 `self.log` 方法，它将适当地记录指标。\n",
    "\n",
    "3. 可以加速训练的工具：半精确训练、梯度检查点、代码分析。\n",
    "\n",
    "[![Open In Colab](https://colab.research.google.com/assets/colab-badge.svg)](https://colab.research.google.com/drive/1VVLqq0vMlPkSEXeqcFnHY_zEuvDOQu50?usp=sharing)"
   ]
  },
  {
   "cell_type": "markdown",
   "id": "bbb99230",
   "metadata": {},
   "source": [
    "## 准备\n",
    "\n",
    "- 本笔记本假设你已经安装了deepchem，如果你没有，请执行 deepchem 安装页面的说明：https://deepchem.readthedocs.io/en/latest/get_started/installation.html。\n",
    "- 安装 pytorchlightning 请参考 lightning 的主页：https://www.pytorchlightning.ai/"
   ]
  },
  {
   "cell_type": "code",
   "execution_count": 1,
   "id": "ba6b1b0f",
   "metadata": {},
   "outputs": [
    {
     "name": "stdout",
     "output_type": "stream",
     "text": [
      "Requirement already satisfied: deepchem in /Users/princychahal/mambaforge/envs/keras_try_5/lib/python3.8/site-packages (2.6.1.dev20220119163852)\n",
      "Requirement already satisfied: numpy>=1.21 in /Users/princychahal/mambaforge/envs/keras_try_5/lib/python3.8/site-packages (from deepchem) (1.22.0)\n",
      "Requirement already satisfied: scikit-learn in /Users/princychahal/mambaforge/envs/keras_try_5/lib/python3.8/site-packages (from deepchem) (1.0.2)\n",
      "Requirement already satisfied: pandas in /Users/princychahal/mambaforge/envs/keras_try_5/lib/python3.8/site-packages (from deepchem) (1.4.0)\n",
      "Collecting rdkit-pypi\n",
      "  Downloading rdkit_pypi-2021.9.5.1-cp38-cp38-macosx_11_0_arm64.whl (15.9 MB)\n",
      "\u001b[K     |████████████████████████████████| 15.9 MB 6.8 MB/s eta 0:00:01\n",
      "\u001b[?25hRequirement already satisfied: joblib in /Users/princychahal/mambaforge/envs/keras_try_5/lib/python3.8/site-packages (from deepchem) (1.1.0)\n",
      "Requirement already satisfied: scipy in /Users/princychahal/mambaforge/envs/keras_try_5/lib/python3.8/site-packages (from deepchem) (1.7.3)\n",
      "Requirement already satisfied: threadpoolctl>=2.0.0 in /Users/princychahal/mambaforge/envs/keras_try_5/lib/python3.8/site-packages (from scikit-learn->deepchem) (3.0.0)\n",
      "Requirement already satisfied: python-dateutil>=2.8.1 in /Users/princychahal/mambaforge/envs/keras_try_5/lib/python3.8/site-packages (from pandas->deepchem) (2.8.2)\n",
      "Requirement already satisfied: pytz>=2020.1 in /Users/princychahal/mambaforge/envs/keras_try_5/lib/python3.8/site-packages (from pandas->deepchem) (2021.3)\n",
      "Requirement already satisfied: Pillow in /Users/princychahal/mambaforge/envs/keras_try_5/lib/python3.8/site-packages (from rdkit-pypi->deepchem) (8.4.0)\n",
      "Requirement already satisfied: six>=1.5 in /Users/princychahal/mambaforge/envs/keras_try_5/lib/python3.8/site-packages (from python-dateutil>=2.8.1->pandas->deepchem) (1.16.0)\n",
      "Installing collected packages: rdkit-pypi\n",
      "Successfully installed rdkit-pypi-2021.9.5.1\n",
      "Requirement already satisfied: pytorch_lightning in /Users/princychahal/mambaforge/envs/keras_try_5/lib/python3.8/site-packages (1.5.8)\n",
      "Requirement already satisfied: typing-extensions in /Users/princychahal/mambaforge/envs/keras_try_5/lib/python3.8/site-packages (from pytorch_lightning) (4.0.1)\n",
      "Requirement already satisfied: numpy>=1.17.2 in /Users/princychahal/mambaforge/envs/keras_try_5/lib/python3.8/site-packages (from pytorch_lightning) (1.22.0)\n",
      "Requirement already satisfied: torch>=1.7.* in /Users/princychahal/mambaforge/envs/keras_try_5/lib/python3.8/site-packages (from pytorch_lightning) (1.10.2)\n",
      "Requirement already satisfied: tensorboard>=2.2.0 in /Users/princychahal/mambaforge/envs/keras_try_5/lib/python3.8/site-packages (from pytorch_lightning) (2.7.0)\n",
      "Requirement already satisfied: tqdm>=4.41.0 in /Users/princychahal/mambaforge/envs/keras_try_5/lib/python3.8/site-packages (from pytorch_lightning) (4.62.3)\n",
      "Requirement already satisfied: fsspec[http]!=2021.06.0,>=2021.05.0 in /Users/princychahal/mambaforge/envs/keras_try_5/lib/python3.8/site-packages (from pytorch_lightning) (2022.1.0)\n",
      "Requirement already satisfied: packaging>=17.0 in /Users/princychahal/mambaforge/envs/keras_try_5/lib/python3.8/site-packages (from pytorch_lightning) (21.3)\n",
      "Requirement already satisfied: PyYAML>=5.1 in /Users/princychahal/mambaforge/envs/keras_try_5/lib/python3.8/site-packages (from pytorch_lightning) (6.0)\n",
      "Requirement already satisfied: pyDeprecate==0.3.1 in /Users/princychahal/mambaforge/envs/keras_try_5/lib/python3.8/site-packages (from pytorch_lightning) (0.3.1)\n",
      "Processing /Users/princychahal/Library/Caches/pip/wheels/8e/70/28/3d6ccd6e315f65f245da085482a2e1c7d14b90b30f239e2cf4/future-0.18.2-py3-none-any.whl\n",
      "Requirement already satisfied: torchmetrics>=0.4.1 in /Users/princychahal/mambaforge/envs/keras_try_5/lib/python3.8/site-packages (from pytorch_lightning) (0.7.0)\n",
      "Requirement already satisfied: tensorboard-data-server<0.7.0,>=0.6.0 in /Users/princychahal/mambaforge/envs/keras_try_5/lib/python3.8/site-packages (from tensorboard>=2.2.0->pytorch_lightning) (0.6.0)\n",
      "Requirement already satisfied: absl-py>=0.4 in /Users/princychahal/mambaforge/envs/keras_try_5/lib/python3.8/site-packages (from tensorboard>=2.2.0->pytorch_lightning) (1.0.0)\n",
      "Requirement already satisfied: grpcio>=1.24.3 in /Users/princychahal/mambaforge/envs/keras_try_5/lib/python3.8/site-packages (from tensorboard>=2.2.0->pytorch_lightning) (1.43.0)\n",
      "Requirement already satisfied: requests<3,>=2.21.0 in /Users/princychahal/mambaforge/envs/keras_try_5/lib/python3.8/site-packages (from tensorboard>=2.2.0->pytorch_lightning) (2.27.1)\n",
      "Requirement already satisfied: google-auth<3,>=1.6.3 in /Users/princychahal/mambaforge/envs/keras_try_5/lib/python3.8/site-packages (from tensorboard>=2.2.0->pytorch_lightning) (2.3.3)\n",
      "Requirement already satisfied: wheel>=0.26 in /Users/princychahal/mambaforge/envs/keras_try_5/lib/python3.8/site-packages (from tensorboard>=2.2.0->pytorch_lightning) (0.37.1)\n",
      "Requirement already satisfied: google-auth-oauthlib<0.5,>=0.4.1 in /Users/princychahal/mambaforge/envs/keras_try_5/lib/python3.8/site-packages (from tensorboard>=2.2.0->pytorch_lightning) (0.4.6)\n",
      "Requirement already satisfied: tensorboard-plugin-wit>=1.6.0 in /Users/princychahal/mambaforge/envs/keras_try_5/lib/python3.8/site-packages (from tensorboard>=2.2.0->pytorch_lightning) (1.8.1)\n",
      "Requirement already satisfied: setuptools>=41.0.0 in /Users/princychahal/mambaforge/envs/keras_try_5/lib/python3.8/site-packages (from tensorboard>=2.2.0->pytorch_lightning) (60.5.0)\n",
      "Requirement already satisfied: werkzeug>=0.11.15 in /Users/princychahal/mambaforge/envs/keras_try_5/lib/python3.8/site-packages (from tensorboard>=2.2.0->pytorch_lightning) (2.0.2)\n",
      "Requirement already satisfied: markdown>=2.6.8 in /Users/princychahal/mambaforge/envs/keras_try_5/lib/python3.8/site-packages (from tensorboard>=2.2.0->pytorch_lightning) (3.3.6)\n",
      "Requirement already satisfied: protobuf>=3.6.0 in /Users/princychahal/mambaforge/envs/keras_try_5/lib/python3.8/site-packages (from tensorboard>=2.2.0->pytorch_lightning) (3.18.1)\n",
      "Requirement already satisfied: aiohttp; extra == \"http\" in /Users/princychahal/mambaforge/envs/keras_try_5/lib/python3.8/site-packages (from fsspec[http]!=2021.06.0,>=2021.05.0->pytorch_lightning) (3.8.1)\n",
      "Requirement already satisfied: pyparsing!=3.0.5,>=2.0.2 in /Users/princychahal/mambaforge/envs/keras_try_5/lib/python3.8/site-packages (from packaging>=17.0->pytorch_lightning) (3.0.7)\n",
      "Requirement already satisfied: six in /Users/princychahal/mambaforge/envs/keras_try_5/lib/python3.8/site-packages (from absl-py>=0.4->tensorboard>=2.2.0->pytorch_lightning) (1.16.0)\n",
      "Requirement already satisfied: urllib3<1.27,>=1.21.1 in /Users/princychahal/mambaforge/envs/keras_try_5/lib/python3.8/site-packages (from requests<3,>=2.21.0->tensorboard>=2.2.0->pytorch_lightning) (1.26.8)\n",
      "Requirement already satisfied: certifi>=2017.4.17 in /Users/princychahal/mambaforge/envs/keras_try_5/lib/python3.8/site-packages (from requests<3,>=2.21.0->tensorboard>=2.2.0->pytorch_lightning) (2021.10.8)\n",
      "Requirement already satisfied: charset-normalizer~=2.0.0; python_version >= \"3\" in /Users/princychahal/mambaforge/envs/keras_try_5/lib/python3.8/site-packages (from requests<3,>=2.21.0->tensorboard>=2.2.0->pytorch_lightning) (2.0.10)\n",
      "Requirement already satisfied: idna<4,>=2.5; python_version >= \"3\" in /Users/princychahal/mambaforge/envs/keras_try_5/lib/python3.8/site-packages (from requests<3,>=2.21.0->tensorboard>=2.2.0->pytorch_lightning) (3.3)\n",
      "Requirement already satisfied: cachetools<5.0,>=2.0.0 in /Users/princychahal/mambaforge/envs/keras_try_5/lib/python3.8/site-packages (from google-auth<3,>=1.6.3->tensorboard>=2.2.0->pytorch_lightning) (4.2.4)\n",
      "Requirement already satisfied: pyasn1-modules>=0.2.1 in /Users/princychahal/mambaforge/envs/keras_try_5/lib/python3.8/site-packages (from google-auth<3,>=1.6.3->tensorboard>=2.2.0->pytorch_lightning) (0.2.7)\n",
      "Requirement already satisfied: rsa<5,>=3.1.4; python_version >= \"3.6\" in /Users/princychahal/mambaforge/envs/keras_try_5/lib/python3.8/site-packages (from google-auth<3,>=1.6.3->tensorboard>=2.2.0->pytorch_lightning) (4.8)\n",
      "Requirement already satisfied: requests-oauthlib>=0.7.0 in /Users/princychahal/mambaforge/envs/keras_try_5/lib/python3.8/site-packages (from google-auth-oauthlib<0.5,>=0.4.1->tensorboard>=2.2.0->pytorch_lightning) (1.3.0)\n",
      "Requirement already satisfied: importlib-metadata>=4.4; python_version < \"3.10\" in /Users/princychahal/mambaforge/envs/keras_try_5/lib/python3.8/site-packages (from markdown>=2.6.8->tensorboard>=2.2.0->pytorch_lightning) (4.10.1)\n",
      "Requirement already satisfied: aiosignal>=1.1.2 in /Users/princychahal/mambaforge/envs/keras_try_5/lib/python3.8/site-packages (from aiohttp; extra == \"http\"->fsspec[http]!=2021.06.0,>=2021.05.0->pytorch_lightning) (1.2.0)\n",
      "Requirement already satisfied: frozenlist>=1.1.1 in /Users/princychahal/mambaforge/envs/keras_try_5/lib/python3.8/site-packages (from aiohttp; extra == \"http\"->fsspec[http]!=2021.06.0,>=2021.05.0->pytorch_lightning) (1.2.0)\n",
      "Requirement already satisfied: async-timeout<5.0,>=4.0.0a3 in /Users/princychahal/mambaforge/envs/keras_try_5/lib/python3.8/site-packages (from aiohttp; extra == \"http\"->fsspec[http]!=2021.06.0,>=2021.05.0->pytorch_lightning) (4.0.2)\n",
      "Requirement already satisfied: multidict<7.0,>=4.5 in /Users/princychahal/mambaforge/envs/keras_try_5/lib/python3.8/site-packages (from aiohttp; extra == \"http\"->fsspec[http]!=2021.06.0,>=2021.05.0->pytorch_lightning) (6.0.2)\n",
      "Requirement already satisfied: yarl<2.0,>=1.0 in /Users/princychahal/mambaforge/envs/keras_try_5/lib/python3.8/site-packages (from aiohttp; extra == \"http\"->fsspec[http]!=2021.06.0,>=2021.05.0->pytorch_lightning) (1.7.2)\n",
      "Requirement already satisfied: attrs>=17.3.0 in /Users/princychahal/mambaforge/envs/keras_try_5/lib/python3.8/site-packages (from aiohttp; extra == \"http\"->fsspec[http]!=2021.06.0,>=2021.05.0->pytorch_lightning) (21.4.0)\n",
      "Requirement already satisfied: pyasn1<0.5.0,>=0.4.6 in /Users/princychahal/mambaforge/envs/keras_try_5/lib/python3.8/site-packages (from pyasn1-modules>=0.2.1->google-auth<3,>=1.6.3->tensorboard>=2.2.0->pytorch_lightning) (0.4.8)\n",
      "Requirement already satisfied: oauthlib>=3.0.0 in /Users/princychahal/mambaforge/envs/keras_try_5/lib/python3.8/site-packages (from requests-oauthlib>=0.7.0->google-auth-oauthlib<0.5,>=0.4.1->tensorboard>=2.2.0->pytorch_lightning) (3.1.1)\n",
      "Requirement already satisfied: zipp>=0.5 in /Users/princychahal/mambaforge/envs/keras_try_5/lib/python3.8/site-packages (from importlib-metadata>=4.4; python_version < \"3.10\"->markdown>=2.6.8->tensorboard>=2.2.0->pytorch_lightning) (3.7.0)\n"
     ]
    },
    {
     "name": "stdout",
     "output_type": "stream",
     "text": [
      "Installing collected packages: future\n",
      "Successfully installed future-0.18.2\n"
     ]
    }
   ],
   "source": [
    "!pip install --pre deepchem\n",
    "!pip install pytorch_lightning"
   ]
  },
  {
   "cell_type": "markdown",
   "id": "98ee91c0",
   "metadata": {},
   "source": [
    "导入相关的包。"
   ]
  },
  {
   "cell_type": "code",
   "execution_count": 2,
   "id": "6890f523",
   "metadata": {},
   "outputs": [],
   "source": [
    "import deepchem as dc\n",
    "from deepchem.models import GCNModel\n",
    "import pytorch_lightning as pl\n",
    "import torch\n",
    "from torch.nn import functional as F\n",
    "from torch import nn\n",
    "import pytorch_lightning as pl\n",
    "from pytorch_lightning.core.lightning import LightningModule\n",
    "from torch.optim import Adam\n",
    "import numpy as np\n",
    "import torch"
   ]
  },
  {
   "cell_type": "markdown",
   "id": "fe62d7c3",
   "metadata": {},
   "source": [
    "## Deepchem 例子\n",
    "\n",
    "下面我们展示图卷积网络（GCN）的一个例子。请注意，这是一个简单的示例，它使用 GCNModel 从输入序列预测标签。在这个例子中，我们没有展示 deepchem 的完整功能，因为我们想要重组 deepchem 代码，并对其进行调整，以便能够轻松插入 pytorch-lightning。这个例子的灵感来自 `GCNModel` [文档](https://github.com/deepchem/deepchem/blob/a68f8c072b80a1bce5671250aef60f9cc8519bec/deepchem/models/torch_models/gcn.py#L200)。"
   ]
  },
  {
   "cell_type": "markdown",
   "id": "2859f97b",
   "metadata": {},
   "source": [
    "**准备数据集**：为了训练我们的deepchem模型，我们需要一个可以用来训练模型的数据集。下面我们为本教程准备了一个示例数据集。下面我们也直接使用特征化来为数据集编码示例。"
   ]
  },
  {
   "cell_type": "code",
   "execution_count": 3,
   "id": "3789e1aa",
   "metadata": {},
   "outputs": [],
   "source": [
    "smiles = [\"C1CCC1\", \"CCC\"]\n",
    "labels = [0., 1.]\n",
    "featurizer = dc.feat.MolGraphConvFeaturizer()\n",
    "X = featurizer.featurize(smiles)\n",
    "dataset = dc.data.NumpyDataset(X=X, y=labels)"
   ]
  },
  {
   "cell_type": "markdown",
   "id": "3bc105a0",
   "metadata": {},
   "source": [
    "**设置模型**：现在我们初始化我们将在训练中使用的图卷积网络模型。"
   ]
  },
  {
   "cell_type": "code",
   "execution_count": 4,
   "id": "6d8fb2f9",
   "metadata": {},
   "outputs": [
    {
     "name": "stderr",
     "output_type": "stream",
     "text": [
      "[16:00:37] /Users/princychahal/Documents/github/dgl/src/runtime/tensordispatch.cc:43: TensorDispatcher: dlopen failed: Using backend: pytorch\n",
      "dlopen(/Users/princychahal/mambaforge/envs/keras_try_5/lib/python3.8/site-packages/dgl-0.8-py3.8-macosx-11.0-arm64.egg/dgl/tensoradapter/pytorch/libtensoradapter_pytorch_1.10.2.dylib, 1): image not found\n"
     ]
    }
   ],
   "source": [
    "model = GCNModel(\n",
    "    mode='classification',\n",
    "    n_tasks=1,\n",
    "    batch_size=2,\n",
    "    learning_rate=0.001\n",
    ")"
   ]
  },
  {
   "cell_type": "markdown",
   "id": "d5f76e7b",
   "metadata": {},
   "source": [
    "**训练模型**：在我们的训练数据集上拟合模型，还指定要运行的epoch的数量。"
   ]
  },
  {
   "cell_type": "code",
   "execution_count": 5,
   "id": "4bdb2d8b",
   "metadata": {},
   "outputs": [
    {
     "name": "stdout",
     "output_type": "stream",
     "text": [
      "0.18830760717391967\n"
     ]
    },
    {
     "name": "stderr",
     "output_type": "stream",
     "text": [
      "/Users/princychahal/mambaforge/envs/keras_try_5/lib/python3.8/site-packages/torch/autocast_mode.py:141: UserWarning: User provided device_type of 'cuda', but CUDA is not available. Disabling\n",
      "  warnings.warn('User provided device_type of \\'cuda\\', but CUDA is not available. Disabling')\n"
     ]
    }
   ],
   "source": [
    "loss = model.fit(dataset, nb_epoch=5)\n",
    "print(loss)"
   ]
  },
  {
   "cell_type": "markdown",
   "id": "2f74d813",
   "metadata": {},
   "source": [
    "## Pytorch-Lightning + Deepchem示例\n",
    "\n",
    "现在我们来看一个 GCN 模型适用于 Pytorch-Lightning 的例子。使用 Pytorch-Lightning 有两个重要的组成部分：\n",
    "\n",
    "1. `LightningDataModule` ：该模块定义如何准备数据并将其输入到模型中，以便模型可以使用它进行训练。该模块定义了训练数据加载器函数，训练器直接使用该函数为 `LightningModule` 生成数据。要了解有关 `LightningDataModule` 的更多信息，请参阅[datamodules 文档](https://pytorch-lightning.readthedocs.io/en/stable/extensions/datamodules.html)。\n",
    "\n",
    "2. `LightningModule` ：这个模块为我们的模型定义了训练和验证步骤。我们可以使用这个模块根据超参数初始化我们的模型。我们可以直接使用许多样板函数来跟踪我们的实验，例如，我们可以使用 `self.save_hyperparameters()` 方法来保存我们用于训练的所有超参数。有关如何使用该模块的详细信息，请参阅[lightningmodules 文档](https://pytorch-lightning.readthedocs.io/en/latest/common/lightning_module.html)。"
   ]
  },
  {
   "cell_type": "markdown",
   "id": "48b1523b",
   "metadata": {},
   "source": [
    "**设置 torch 数据集**：请注意，这里我们需要创建一个自定义的 `SmilesDataset`，以便我们可以轻松地与 deepchem 特征器交互。为这个交互,我们需要定义一个整理方法,这样我们就可以创建批次数据集。"
   ]
  },
  {
   "cell_type": "code",
   "execution_count": 6,
   "id": "0c16f761",
   "metadata": {},
   "outputs": [],
   "source": [
    "# prepare LightningDataModule\n",
    "class SmilesDataset(torch.utils.data.Dataset):\n",
    "    def __init__(self, smiles, labels):\n",
    "        assert len(smiles) == len(labels)\n",
    "        featurizer = dc.feat.MolGraphConvFeaturizer()\n",
    "        X = featurizer.featurize(smiles)\n",
    "        self._samples = dc.data.NumpyDataset(X=X, y=labels)\n",
    "        \n",
    "    def __len__(self):\n",
    "        return len(self._samples)\n",
    "        \n",
    "    def __getitem__(self, index):\n",
    "        return (\n",
    "            self._samples.X[index],\n",
    "            self._samples.y[index],\n",
    "            self._samples.w[index],\n",
    "        )\n",
    "    \n",
    "    \n",
    "class SmilesDatasetBatch:\n",
    "    def __init__(self, batch):\n",
    "        X = [np.array([b[0] for b in batch])]\n",
    "        y = [np.array([b[1] for b in batch])]\n",
    "        w = [np.array([b[2] for b in batch])]\n",
    "        self.batch_list = [X, y, w]\n",
    "        \n",
    "        \n",
    "def collate_smiles_dataset_wrapper(batch):\n",
    "    return SmilesDatasetBatch(batch)"
   ]
  },
  {
   "cell_type": "markdown",
   "id": "bc5c68b8",
   "metadata": {},
   "source": [
    "**创建GCN特定的lightning模块**：在这一部分中，我们使用上面创建的 `SmilesDataset` 的对象来创建 `SmilesDatasetModule`。"
   ]
  },
  {
   "cell_type": "code",
   "execution_count": 7,
   "id": "44df652a",
   "metadata": {},
   "outputs": [],
   "source": [
    "class SmilesDatasetModule(pl.LightningDataModule):\n",
    "    def __init__(self, train_smiles, train_labels, batch_size):\n",
    "        super().__init__()\n",
    "        self._train_smiles = train_smiles\n",
    "        self._train_labels = train_labels\n",
    "        self._batch_size = batch_size\n",
    "        \n",
    "    def setup(self, stage):\n",
    "        self.train_dataset = SmilesDataset(\n",
    "            self._train_smiles,\n",
    "            self._train_labels,\n",
    "        )\n",
    "        \n",
    "    def train_dataloader(self):\n",
    "        return torch.utils.data.DataLoader(\n",
    "            self.train_dataset,\n",
    "            batch_size=self._batch_size,\n",
    "            collate_fn=collate_smiles_dataset_wrapper,\n",
    "            shuffle=True,  \n",
    "        )"
   ]
  },
  {
   "cell_type": "markdown",
   "id": "4115ec6e",
   "metadata": {},
   "source": [
    "**创建 lightning 模块**：在本部分中，我们创建 GCN 特定的 lightning 模块。该类指定训练步骤的逻辑流。我们还为训练流创建所需的模型、优化器和损失。"
   ]
  },
  {
   "cell_type": "code",
   "execution_count": 8,
   "id": "61fdd620",
   "metadata": {},
   "outputs": [],
   "source": [
    "# prepare the LightningModule\n",
    "class GCNModule(pl.LightningModule):\n",
    "    def __init__(self, mode, n_tasks, learning_rate):\n",
    "        super().__init__()\n",
    "        self.save_hyperparameters(\n",
    "            \"mode\",\n",
    "            \"n_tasks\",\n",
    "            \"learning_rate\",\n",
    "        )\n",
    "        self.gcn_model = GCNModel(\n",
    "            mode=self.hparams.mode,\n",
    "            n_tasks=self.hparams.n_tasks,\n",
    "            learning_rate=self.hparams.learning_rate,\n",
    "        )\n",
    "        self.pt_model = self.gcn_model.model\n",
    "        self.loss = self.gcn_model._loss_fn\n",
    "        \n",
    "    def configure_optimizers(self):\n",
    "        return self.gcn_model.optimizer._create_pytorch_optimizer(\n",
    "            self.pt_model.parameters(),\n",
    "        )\n",
    "    \n",
    "    def training_step(self, batch, batch_idx):\n",
    "        batch = batch.batch_list\n",
    "        inputs, labels, weights = self.gcn_model._prepare_batch(batch)\n",
    "        outputs = self.pt_model(inputs)\n",
    "        \n",
    "        if isinstance(outputs, torch.Tensor):\n",
    "            outputs = [outputs]\n",
    "    \n",
    "        if self.gcn_model._loss_outputs is not None:\n",
    "            outputs = [outputs[i] for i in self.gcn_model._loss_outputs]\n",
    "    \n",
    "        loss_outputs = self.loss(outputs, labels, weights)\n",
    "        \n",
    "        self.log(\n",
    "            \"train_loss\",\n",
    "            loss_outputs,\n",
    "            on_epoch=True,\n",
    "            sync_dist=True,\n",
    "            reduce_fx=\"mean\",\n",
    "            prog_bar=True,\n",
    "        )\n",
    "        \n",
    "        return loss_outputs"
   ]
  },
  {
   "cell_type": "markdown",
   "id": "c3b167c5",
   "metadata": {},
   "source": [
    "**创建相关对象**"
   ]
  },
  {
   "cell_type": "code",
   "execution_count": 9,
   "id": "bfff80bd",
   "metadata": {},
   "outputs": [],
   "source": [
    "# create module objects\n",
    "smiles_datasetmodule = SmilesDatasetModule(\n",
    "    train_smiles=[\"C1CCC1\", \"CCC\", \"C1CCC1\", \"CCC\", \"C1CCC1\", \"CCC\", \"C1CCC1\", \"CCC\", \"C1CCC1\", \"CCC\"],\n",
    "    train_labels=[0., 1., 0., 1., 0., 1., 0., 1., 0., 1.],\n",
    "    batch_size=2,\n",
    ")\n",
    "\n",
    "gcnmodule = GCNModule(\n",
    "    mode=\"classification\",\n",
    "    n_tasks=1,\n",
    "    learning_rate=1e-3,\n",
    ")"
   ]
  },
  {
   "cell_type": "markdown",
   "id": "ed902521",
   "metadata": {},
   "source": [
    "## Lightning 训练器\n",
    "\n",
    "Trainer 是构建在 `LightningDataModule` 和 `LightningModule` 之上的包装器。当构建 lightning 训练器时，你还可以指定 epoch 的数量，运行的最大步数，gpu 的数量，用于训练器的节点数量。Lightning trainer 充当分布式训练设置的包装器，这样你就能够简单地构建模型以本地运行。"
   ]
  },
  {
   "cell_type": "code",
   "execution_count": 10,
   "id": "9e002e3a",
   "metadata": {},
   "outputs": [
    {
     "name": "stderr",
     "output_type": "stream",
     "text": [
      "GPU available: False, used: False\n",
      "TPU available: False, using: 0 TPU cores\n",
      "IPU available: False, using: 0 IPUs\n"
     ]
    }
   ],
   "source": [
    "trainer = pl.Trainer(\n",
    "    max_epochs=5,\n",
    ")"
   ]
  },
  {
   "cell_type": "markdown",
   "id": "870271cd",
   "metadata": {},
   "source": [
    "**调用 fit 函数运行模型训练**"
   ]
  },
  {
   "cell_type": "code",
   "execution_count": 11,
   "id": "00d35e97",
   "metadata": {},
   "outputs": [
    {
     "name": "stderr",
     "output_type": "stream",
     "text": [
      "\n",
      "  | Name     | Type | Params\n",
      "----------------------------------\n",
      "0 | pt_model | GCN  | 29.4 K\n",
      "----------------------------------\n",
      "29.4 K    Trainable params\n",
      "0         Non-trainable params\n",
      "29.4 K    Total params\n",
      "0.118     Total estimated model params size (MB)\n",
      "/Users/princychahal/mambaforge/envs/keras_try_5/lib/python3.8/site-packages/pytorch_lightning/trainer/data_loading.py:132: UserWarning: The dataloader, train_dataloader, does not have many workers which may be a bottleneck. Consider increasing the value of the `num_workers` argument` (try 8 which is the number of cpus on this machine) in the `DataLoader` init to improve performance.\n",
      "  rank_zero_warn(\n",
      "/Users/princychahal/mambaforge/envs/keras_try_5/lib/python3.8/site-packages/pytorch_lightning/trainer/data_loading.py:428: UserWarning: The number of training samples (5) is smaller than the logging interval Trainer(log_every_n_steps=50). Set a lower value for log_every_n_steps if you want to see logs for the training epoch.\n",
      "  rank_zero_warn(\n"
     ]
    },
    {
     "data": {
      "application/vnd.jupyter.widget-view+json": {
       "model_id": "b2dd36ca21014476917dc7cf922ce6b6",
       "version_major": 2,
       "version_minor": 0
      },
      "text/plain": [
       "Training: 0it [00:00, ?it/s]"
      ]
     },
     "metadata": {},
     "output_type": "display_data"
    }
   ],
   "source": [
    "# train\n",
    "trainer.fit(\n",
    "    model=gcnmodule,\n",
    "    datamodule=smiles_datasetmodule,\n",
    ")"
   ]
  },
  {
   "cell_type": "code",
   "execution_count": null,
   "id": "b7537ea2",
   "metadata": {},
   "outputs": [],
   "source": []
  }
 ],
 "metadata": {
  "kernelspec": {
   "display_name": "Python 3.10.6 64-bit",
   "language": "python",
   "name": "python3"
  },
  "language_info": {
   "codemirror_mode": {
    "name": "ipython",
    "version": 3
   },
   "file_extension": ".py",
   "mimetype": "text/x-python",
   "name": "python",
   "nbconvert_exporter": "python",
   "pygments_lexer": "ipython3",
   "version": "3.10.6"
  },
  "vscode": {
   "interpreter": {
    "hash": "916dbcbb3f70747c44a77c7bcd40155683ae19c65e1c03b4aa3499c5328201f1"
   }
  }
 },
 "nbformat": 4,
 "nbformat_minor": 5
}
