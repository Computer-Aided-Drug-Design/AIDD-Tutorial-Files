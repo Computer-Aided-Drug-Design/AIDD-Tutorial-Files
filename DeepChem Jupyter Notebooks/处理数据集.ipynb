{
 "cells": [
  {
   "cell_type": "markdown",
   "metadata": {
    "colab_type": "text",
    "id": "socSJe925zFv"
   },
   "source": [
    "#  处理数据集\n",
    "\n",
    "数据是机器学习的核心。本教程将介绍DeepChem用于存储和管理数据的“Dataset”类。它为高效地处理大量数据提供了简单但强大的工具。它还被设计成易于与其他流行的Python框架交互，如NumPy、Pandas、TensorFlow和PyTorch。\n",
    "\n",
    "## Colab\n",
    "\n",
    "This tutorial and the rest in this sequence can be done in Google colab. If you'd like to open this notebook in colab, you can use the following link.\n",
    "\n",
    "[![Open In Colab](https://colab.research.google.com/assets/colab-badge.svg)](https://colab.research.google.com/github/deepchem/deepchem/blob/master/examples/tutorials/Working_With_Datasets.ipynb)\n",
    "\n"
   ]
  },
  {
   "cell_type": "code",
   "execution_count": null,
   "metadata": {
    "colab": {
     "base_uri": "https://localhost:8080/",
     "height": 170
    },
    "colab_type": "code",
    "id": "CMWAv-Z46nCc",
    "outputId": "9ae7cfd0-ebbf-40b0-f6f1-2940cf32a839"
   },
   "outputs": [],
   "source": [
    "%pip install --pre deepchem"
   ]
  },
  {
   "cell_type": "markdown",
   "metadata": {
    "colab_type": "text",
    "id": "Jk47QTZ95zF-"
   },
   "source": [
    "We can now import the `deepchem` package to play with."
   ]
  },
  {
   "cell_type": "code",
   "execution_count": 1,
   "metadata": {
    "colab": {
     "base_uri": "https://localhost:8080/",
     "height": 35
    },
    "colab_type": "code",
    "id": "PDiY03h35zF_",
    "outputId": "cdd7401d-19a0-4476-9297-b04defc67178"
   },
   "outputs": [
    {
     "name": "stderr",
     "output_type": "stream",
     "text": [
      "d:\\Program Files\\Python39\\lib\\site-packages\\tqdm\\auto.py:22: TqdmWarning: IProgress not found. Please update jupyter and ipywidgets. See https://ipywidgets.readthedocs.io/en/stable/user_install.html\n",
      "  from .autonotebook import tqdm as notebook_tqdm\n"
     ]
    },
    {
     "data": {
      "text/plain": [
       "'2.6.1'"
      ]
     },
     "execution_count": 1,
     "metadata": {},
     "output_type": "execute_result"
    }
   ],
   "source": [
    "import deepchem as dc\n",
    "dc.__version__"
   ]
  },
  {
   "cell_type": "markdown",
   "metadata": {
    "colab_type": "text",
    "id": "B0u7qIZd5zGG"
   },
   "source": [
    "# 数据集的结构\n",
    "\n",
    "在上一个教程中，我们加载了关于化合物溶解度的Delaney数据集。现在，让我们再次加载它。"
   ]
  },
  {
   "cell_type": "code",
   "execution_count": 2,
   "metadata": {
    "colab": {},
    "colab_type": "code",
    "id": "saTaOpXY5zGI"
   },
   "outputs": [],
   "source": [
    "import deepchem as dc\n",
    "tasks, datasets, transformers = dc.molnet.load_delaney(featurizer='GraphConv')\n",
    "train_dataset, valid_dataset, test_dataset = datasets"
   ]
  },
  {
   "cell_type": "markdown",
   "metadata": {
    "colab_type": "text",
    "id": "F922OPtL5zGM"
   },
   "source": [
    "我们现在有三个Dataset对象:训练集、验证集和测试集。它们各自包含什么信息?我们可以先打印出其中一个的字符串表示形式。"
   ]
  },
  {
   "cell_type": "code",
   "execution_count": 3,
   "metadata": {
    "colab": {
     "base_uri": "https://localhost:8080/",
     "height": 102
    },
    "colab_type": "code",
    "id": "YEDcUsz35zGO",
    "outputId": "5a05747f-8b06-407d-9b11-790a1b4d1c8f"
   },
   "outputs": [
    {
     "name": "stdout",
     "output_type": "stream",
     "text": [
      "<DiskDataset X.shape: (113,), y.shape: (113, 1), w.shape: (113, 1), ids: ['c1cc2ccc3cccc4ccc(c1)c2c34' 'Cc1cc(=O)[nH]c(=S)[nH]1'\n",
      " 'Oc1ccc(cc1)C2(OC(=O)c3ccccc23)c4ccc(O)cc4 ' ...\n",
      " 'c1ccc2c(c1)ccc3c2ccc4c5ccccc5ccc43' 'Cc1occc1C(=O)Nc2ccccc2'\n",
      " 'OCC3OC(OCC2OC(OC(C#N)c1ccccc1)C(O)C(O)C2O)C(O)C(O)C3O '], task_names: ['measured log solubility in mols per litre']>\n"
     ]
    }
   ],
   "source": [
    "print(test_dataset)"
   ]
  },
  {
   "cell_type": "markdown",
   "metadata": {
    "colab_type": "text",
    "id": "E8UCFrrN5zGf"
   },
   "source": [
    "这里有很多信息，所以让我们从头开始。它以标签“DiskDataset”开始。Dataset是一个抽象类。它有几个子类，对应于存储数据的不同方式。\n",
    "\n",
    "- `DiskDataset` 是一个已经保存到硬盘上的数据集。数据以一种可以高效访问的方式储存在电脑上，即使数据的总量远远大于计算机的内存。\n",
    "- `NumpyDataset` 是一个存在于内存的数据集，它将所有数据保存在NumPy数组中。当操作可以完全放入内存的中小型数据集时，它是一个有用的工具。\n",
    "- `ImageDataset` 是一个更专门的类，它存储部分或所有在硬盘上的图像文件数据。在处理以图像作为输入或输出的模型时，它非常有用。\n",
    "\n",
    "现在让我们讨论数据集的内容。每个数据集存储 *样本（samples）* 列表。非常粗略地说，一个样本是单个数据点。现在的情况下，每个样本都是一个分子。在其他数据集中，一个样本可能对应于一个实验测定数据、一个细胞系、一张图像或许多其他东西。对于每个样本，数据集存储以下信息。\n",
    "\n",
    "- *特征*，被称为`X`。这个用来作为样本输入到模型中。\n",
    "- *标签*，称为`y`。这个是我们希望模型输出的。在训练过程中，模型试图使每个样本的输出尽可能接近`y`。\n",
    "- *权重*，称为`w`。这个用来表示某些数据值比其他数据值更重要。在后面的教程中，我们将看到一些巧妙使用了权重的例子。\n",
    "- *ID*，是样本的唯一标识符。它可以是任何东西，只要它是唯一的。有时它只是一个整数索引，但在这个数据集中，ID是描述分子的SMILES字符串。\n",
    "\n",
    "注意，`X`、`y`和`w`的第一个维度的大小都是113。这意味着该数据集包含113个样本。\n",
    "\n",
    "打印输出中列出的最后一条信息是 **task_names**。有些数据集包含对应于每个样本的多条信息。例如，如果一个样本代表一个分子，那么数据集可能会记录针对该分子的几个不同实验的结果。但这个数据集只有一个任务(task):“测量的 log(溶解度), 单位为摩尔/升)”。还要注意 **y** 和 **w** 都有形状(113,1)。这些数组的第二个维度通常与任务的数量相匹配。\n",
    "\n",
    "# 从数据集访问数据\n",
    "\n",
    "有许多方法可以访问数据集中包含的数据。最简单的方法是直接访问 **X** ， **y**， **w** 和 **ids** 属性。每一个都以NumPy数组的形式返回相应的信息。"
   ]
  },
  {
   "cell_type": "code",
   "execution_count": 4,
   "metadata": {
    "colab": {},
    "colab_type": "code",
    "id": "e5K3rdGV5zGg"
   },
   "outputs": [
    {
     "data": {
      "text/plain": [
       "array([[-1.60114461],\n",
       "       [ 0.20848251],\n",
       "       [-0.01602738],\n",
       "       [-2.82191713],\n",
       "       [-0.52891635],\n",
       "       [ 1.10168349],\n",
       "       [-0.88987406],\n",
       "       [-0.52649706],\n",
       "       [-0.76358725],\n",
       "       [-0.64020358],\n",
       "       [-0.38569452],\n",
       "       [-0.62568785],\n",
       "       [-0.39585553],\n",
       "       [-2.05306753],\n",
       "       [-0.29666474],\n",
       "       [-0.73213651],\n",
       "       [-1.27744393],\n",
       "       [ 0.0081655 ],\n",
       "       [ 0.97588054],\n",
       "       [-0.10796031],\n",
       "       [ 0.59847167],\n",
       "       [-0.60149498],\n",
       "       [-0.34988907],\n",
       "       [ 0.34686576],\n",
       "       [ 0.62750312],\n",
       "       [ 0.14848418],\n",
       "       [ 0.02268122],\n",
       "       [-0.85310089],\n",
       "       [-2.72079091],\n",
       "       [ 0.42476682],\n",
       "       [ 0.01300407],\n",
       "       [-2.4851523 ],\n",
       "       [-2.15516147],\n",
       "       [ 1.00975056],\n",
       "       [ 0.82588471],\n",
       "       [-0.90390593],\n",
       "       [-0.91067993],\n",
       "       [-0.82455329],\n",
       "       [ 1.26909819],\n",
       "       [-1.14825397],\n",
       "       [-2.1343556 ],\n",
       "       [-1.15744727],\n",
       "       [-0.1045733 ],\n",
       "       [ 0.53073162],\n",
       "       [-1.22567118],\n",
       "       [-1.66452995],\n",
       "       [ 0.24525568],\n",
       "       [-0.13215318],\n",
       "       [-0.97067826],\n",
       "       [-0.23376326],\n",
       "       [ 1.21297072],\n",
       "       [-1.2595412 ],\n",
       "       [ 0.49686159],\n",
       "       [ 0.22396595],\n",
       "       [-0.44182199],\n",
       "       [ 0.47895886],\n",
       "       [ 0.08267956],\n",
       "       [-1.51840498],\n",
       "       [-0.34795364],\n",
       "       [-0.83858516],\n",
       "       [-0.13699176],\n",
       "       [-2.59498796],\n",
       "       [ 0.13106531],\n",
       "       [ 0.09042128],\n",
       "       [ 1.18877785],\n",
       "       [-0.82697258],\n",
       "       [-1.16857599],\n",
       "       [ 0.37589721],\n",
       "       [-0.24344041],\n",
       "       [-2.00952036],\n",
       "       [-0.59181783],\n",
       "       [-0.15634606],\n",
       "       [-2.87272217],\n",
       "       [-0.34069577],\n",
       "       [ 0.27622256],\n",
       "       [-2.15467761],\n",
       "       [-0.02812382],\n",
       "       [-2.77401524],\n",
       "       [ 0.25638441],\n",
       "       [ 0.84040043],\n",
       "       [-0.86277804],\n",
       "       [-1.52082426],\n",
       "       [ 0.29702844],\n",
       "       [ 0.44363727],\n",
       "       [ 0.47460415],\n",
       "       [-0.08376743],\n",
       "       [ 0.68556602],\n",
       "       [ 0.79201468],\n",
       "       [-1.2401869 ],\n",
       "       [ 0.6129874 ],\n",
       "       [-0.58214068],\n",
       "       [-1.51598569],\n",
       "       [-1.93984487],\n",
       "       [-0.30295489],\n",
       "       [-0.24827899],\n",
       "       [ 1.06442646],\n",
       "       [-1.48259952],\n",
       "       [ 0.0275198 ],\n",
       "       [ 0.33718861],\n",
       "       [-0.91600236],\n",
       "       [ 0.58637523],\n",
       "       [-0.62084928],\n",
       "       [-0.30827732],\n",
       "       [-1.95145746],\n",
       "       [-0.83568202],\n",
       "       [ 0.10977558],\n",
       "       [ 1.90488697],\n",
       "       [-0.75149081],\n",
       "       [-1.65630437],\n",
       "       [ 0.74362893],\n",
       "       [-2.42079925],\n",
       "       [-0.20957039],\n",
       "       [ 1.01458914]])"
      ]
     },
     "execution_count": 4,
     "metadata": {},
     "output_type": "execute_result"
    }
   ],
   "source": [
    "test_dataset.y"
   ]
  },
  {
   "cell_type": "markdown",
   "metadata": {
    "colab_type": "text",
    "id": "_Zcd7jTd5zGr"
   },
   "source": [
    "这是一种非常简单的访问数据方法，但是在使用它时应该非常小心。这需要将所有样本的数据同时加载到内存中。这对于像这样的小型数据集来说没什么问题，但对于大型数据集，它很容易占用比计算机所拥有的更多的内存。\n",
    "\n",
    "更好的方法是遍历数据集。这让它每次只加载一点数据，处理它，然后在加载下一个部分之前释放内存。你可以使用 **itersamples()** 方法一次遍历一个样本。"
   ]
  },
  {
   "cell_type": "code",
   "execution_count": 5,
   "metadata": {
    "colab": {
     "base_uri": "https://localhost:8080/",
     "height": 34
    },
    "colab_type": "code",
    "id": "LJc90fs_5zGs",
    "outputId": "8c9fd5ab-e23a-40dc-9292-8b4ff3a86890"
   },
   "outputs": [
    {
     "name": "stdout",
     "output_type": "stream",
     "text": [
      "<deepchem.feat.mol_graphs.ConvMol object at 0x0000028E090871F0> [-1.60114461] [1.] c1cc2ccc3cccc4ccc(c1)c2c34\n"
     ]
    }
   ],
   "source": [
    "for X, y, w, id in test_dataset.itersamples():\n",
    "    print(X, y, w, id)\n",
    "    break"
   ]
  },
  {
   "cell_type": "markdown",
   "metadata": {
    "colab_type": "text",
    "id": "aQa88cbj5zGw"
   },
   "source": [
    "大多数深度学习模型可以同时处理一批多个样本。你可以使用 `iterbatches()` 来遍历每批次样本。"
   ]
  },
  {
   "cell_type": "code",
   "execution_count": 6,
   "metadata": {
    "colab": {
     "base_uri": "https://localhost:8080/",
     "height": 102
    },
    "colab_type": "code",
    "id": "HSVqeYox5zGx",
    "outputId": "270a6a17-6238-4081-b0cf-3f17e23f4bb5"
   },
   "outputs": [
    {
     "name": "stdout",
     "output_type": "stream",
     "text": [
      "(50, 1)\n",
      "(50, 1)\n",
      "(13, 1)\n"
     ]
    }
   ],
   "source": [
    "for X, y, w, ids in test_dataset.iterbatches(batch_size=50):\n",
    "    print(y.shape)"
   ]
  },
  {
   "cell_type": "markdown",
   "metadata": {},
   "source": [
    "`iterbatches()` 在训练模型时还有其他有用的特性。例如， `iterbatches(batch_size=100, epochs=10, deterministic=False)` 将遍历整个数据集十次，每次都以不同的随机顺序。\n",
    "\n",
    "数据集还可以使用TensorFlow和PyTorch的标准接口访问数据。如果要获取 `tensorflow.data.Dataset`，请调用 `make_tf_dataset()` 。如果要获取 `torch.utils.data.IterableDataset` ，请调用 `make_pytorch_dataset()` 。有关更多细节，请参阅API文档。\n",
    "\n",
    "最后一种访问数据的方法是 `to_dataframe()` 。这将数据复制到Pandas的 `DataFrame` 中。这需要一次性将所有数据存储在内存中，所以你应该只对小型数据集使用它。"
   ]
  },
  {
   "cell_type": "code",
   "execution_count": 7,
   "metadata": {},
   "outputs": [
    {
     "data": {
      "text/html": [
       "<div>\n",
       "<style scoped>\n",
       "    .dataframe tbody tr th:only-of-type {\n",
       "        vertical-align: middle;\n",
       "    }\n",
       "\n",
       "    .dataframe tbody tr th {\n",
       "        vertical-align: top;\n",
       "    }\n",
       "\n",
       "    .dataframe thead th {\n",
       "        text-align: right;\n",
       "    }\n",
       "</style>\n",
       "<table border=\"1\" class=\"dataframe\">\n",
       "  <thead>\n",
       "    <tr style=\"text-align: right;\">\n",
       "      <th></th>\n",
       "      <th>X</th>\n",
       "      <th>y</th>\n",
       "      <th>w</th>\n",
       "      <th>ids</th>\n",
       "    </tr>\n",
       "  </thead>\n",
       "  <tbody>\n",
       "    <tr>\n",
       "      <th>0</th>\n",
       "      <td>&lt;deepchem.feat.mol_graphs.ConvMol object at 0x...</td>\n",
       "      <td>-1.601145</td>\n",
       "      <td>1.0</td>\n",
       "      <td>c1cc2ccc3cccc4ccc(c1)c2c34</td>\n",
       "    </tr>\n",
       "    <tr>\n",
       "      <th>1</th>\n",
       "      <td>&lt;deepchem.feat.mol_graphs.ConvMol object at 0x...</td>\n",
       "      <td>0.208483</td>\n",
       "      <td>1.0</td>\n",
       "      <td>Cc1cc(=O)[nH]c(=S)[nH]1</td>\n",
       "    </tr>\n",
       "    <tr>\n",
       "      <th>2</th>\n",
       "      <td>&lt;deepchem.feat.mol_graphs.ConvMol object at 0x...</td>\n",
       "      <td>-0.016027</td>\n",
       "      <td>1.0</td>\n",
       "      <td>Oc1ccc(cc1)C2(OC(=O)c3ccccc23)c4ccc(O)cc4</td>\n",
       "    </tr>\n",
       "    <tr>\n",
       "      <th>3</th>\n",
       "      <td>&lt;deepchem.feat.mol_graphs.ConvMol object at 0x...</td>\n",
       "      <td>-2.821917</td>\n",
       "      <td>1.0</td>\n",
       "      <td>c1ccc2c(c1)cc3ccc4cccc5ccc2c3c45</td>\n",
       "    </tr>\n",
       "    <tr>\n",
       "      <th>4</th>\n",
       "      <td>&lt;deepchem.feat.mol_graphs.ConvMol object at 0x...</td>\n",
       "      <td>-0.528916</td>\n",
       "      <td>1.0</td>\n",
       "      <td>C1=Cc2cccc3cccc1c23</td>\n",
       "    </tr>\n",
       "    <tr>\n",
       "      <th>...</th>\n",
       "      <td>...</td>\n",
       "      <td>...</td>\n",
       "      <td>...</td>\n",
       "      <td>...</td>\n",
       "    </tr>\n",
       "    <tr>\n",
       "      <th>108</th>\n",
       "      <td>&lt;deepchem.feat.mol_graphs.ConvMol object at 0x...</td>\n",
       "      <td>-1.656304</td>\n",
       "      <td>1.0</td>\n",
       "      <td>ClC4=C(Cl)C5(Cl)C3C1CC(C2OC12)C3C4(Cl)C5(Cl)Cl</td>\n",
       "    </tr>\n",
       "    <tr>\n",
       "      <th>109</th>\n",
       "      <td>&lt;deepchem.feat.mol_graphs.ConvMol object at 0x...</td>\n",
       "      <td>0.743629</td>\n",
       "      <td>1.0</td>\n",
       "      <td>c1ccsc1</td>\n",
       "    </tr>\n",
       "    <tr>\n",
       "      <th>110</th>\n",
       "      <td>&lt;deepchem.feat.mol_graphs.ConvMol object at 0x...</td>\n",
       "      <td>-2.420799</td>\n",
       "      <td>1.0</td>\n",
       "      <td>c1ccc2c(c1)ccc3c2ccc4c5ccccc5ccc43</td>\n",
       "    </tr>\n",
       "    <tr>\n",
       "      <th>111</th>\n",
       "      <td>&lt;deepchem.feat.mol_graphs.ConvMol object at 0x...</td>\n",
       "      <td>-0.209570</td>\n",
       "      <td>1.0</td>\n",
       "      <td>Cc1occc1C(=O)Nc2ccccc2</td>\n",
       "    </tr>\n",
       "    <tr>\n",
       "      <th>112</th>\n",
       "      <td>&lt;deepchem.feat.mol_graphs.ConvMol object at 0x...</td>\n",
       "      <td>1.014589</td>\n",
       "      <td>1.0</td>\n",
       "      <td>OCC3OC(OCC2OC(OC(C#N)c1ccccc1)C(O)C(O)C2O)C(O)...</td>\n",
       "    </tr>\n",
       "  </tbody>\n",
       "</table>\n",
       "<p>113 rows × 4 columns</p>\n",
       "</div>"
      ],
      "text/plain": [
       "                                                     X         y    w  \\\n",
       "0    <deepchem.feat.mol_graphs.ConvMol object at 0x... -1.601145  1.0   \n",
       "1    <deepchem.feat.mol_graphs.ConvMol object at 0x...  0.208483  1.0   \n",
       "2    <deepchem.feat.mol_graphs.ConvMol object at 0x... -0.016027  1.0   \n",
       "3    <deepchem.feat.mol_graphs.ConvMol object at 0x... -2.821917  1.0   \n",
       "4    <deepchem.feat.mol_graphs.ConvMol object at 0x... -0.528916  1.0   \n",
       "..                                                 ...       ...  ...   \n",
       "108  <deepchem.feat.mol_graphs.ConvMol object at 0x... -1.656304  1.0   \n",
       "109  <deepchem.feat.mol_graphs.ConvMol object at 0x...  0.743629  1.0   \n",
       "110  <deepchem.feat.mol_graphs.ConvMol object at 0x... -2.420799  1.0   \n",
       "111  <deepchem.feat.mol_graphs.ConvMol object at 0x... -0.209570  1.0   \n",
       "112  <deepchem.feat.mol_graphs.ConvMol object at 0x...  1.014589  1.0   \n",
       "\n",
       "                                                   ids  \n",
       "0                           c1cc2ccc3cccc4ccc(c1)c2c34  \n",
       "1                              Cc1cc(=O)[nH]c(=S)[nH]1  \n",
       "2           Oc1ccc(cc1)C2(OC(=O)c3ccccc23)c4ccc(O)cc4   \n",
       "3                     c1ccc2c(c1)cc3ccc4cccc5ccc2c3c45  \n",
       "4                                  C1=Cc2cccc3cccc1c23  \n",
       "..                                                 ...  \n",
       "108     ClC4=C(Cl)C5(Cl)C3C1CC(C2OC12)C3C4(Cl)C5(Cl)Cl  \n",
       "109                                            c1ccsc1  \n",
       "110                 c1ccc2c(c1)ccc3c2ccc4c5ccccc5ccc43  \n",
       "111                             Cc1occc1C(=O)Nc2ccccc2  \n",
       "112  OCC3OC(OCC2OC(OC(C#N)c1ccccc1)C(O)C(O)C2O)C(O)...  \n",
       "\n",
       "[113 rows x 4 columns]"
      ]
     },
     "execution_count": 7,
     "metadata": {},
     "output_type": "execute_result"
    }
   ],
   "source": [
    "test_dataset.to_dataframe()"
   ]
  },
  {
   "cell_type": "markdown",
   "metadata": {},
   "source": [
    "# 创建数据集\n",
    "\n",
    "现在让我们谈谈如何创建自己的数据集。创建 `NumpyDataset` 非常简单:只需将包含数据的数组传递给构造函数。让我们创建一些随机数组，然后将它们包装在NumpyDataset中。"
   ]
  },
  {
   "cell_type": "code",
   "execution_count": 8,
   "metadata": {},
   "outputs": [
    {
     "name": "stdout",
     "output_type": "stream",
     "text": [
      "<NumpyDataset X.shape: (10, 5), y.shape: (10, 2), w.shape: (10, 1), ids: [0 1 2 3 4 5 6 7 8 9], task_names: [0 1]>\n"
     ]
    }
   ],
   "source": [
    "import numpy as np\n",
    "\n",
    "X = np.random.random((10, 5))\n",
    "y = np.random.random((10, 2))\n",
    "dataset = dc.data.NumpyDataset(X=X, y=y)\n",
    "print(dataset)"
   ]
  },
  {
   "cell_type": "markdown",
   "metadata": {},
   "source": [
    "注意，我们没有指定权重或IDs。这些是可选的，就像`y`一样。`NumpyDataset`只要求`X`。因为我们没有给权重或IDs，它自动为我们构建 `w` 和 `ids` 数组，将所有权重设置为1，并将IDs设置为整数索引。"
   ]
  },
  {
   "cell_type": "code",
   "execution_count": 9,
   "metadata": {},
   "outputs": [
    {
     "data": {
      "text/html": [
       "<div>\n",
       "<style scoped>\n",
       "    .dataframe tbody tr th:only-of-type {\n",
       "        vertical-align: middle;\n",
       "    }\n",
       "\n",
       "    .dataframe tbody tr th {\n",
       "        vertical-align: top;\n",
       "    }\n",
       "\n",
       "    .dataframe thead th {\n",
       "        text-align: right;\n",
       "    }\n",
       "</style>\n",
       "<table border=\"1\" class=\"dataframe\">\n",
       "  <thead>\n",
       "    <tr style=\"text-align: right;\">\n",
       "      <th></th>\n",
       "      <th>X1</th>\n",
       "      <th>X2</th>\n",
       "      <th>X3</th>\n",
       "      <th>X4</th>\n",
       "      <th>X5</th>\n",
       "      <th>y1</th>\n",
       "      <th>y2</th>\n",
       "      <th>w</th>\n",
       "      <th>ids</th>\n",
       "    </tr>\n",
       "  </thead>\n",
       "  <tbody>\n",
       "    <tr>\n",
       "      <th>0</th>\n",
       "      <td>0.174700</td>\n",
       "      <td>0.263876</td>\n",
       "      <td>0.648366</td>\n",
       "      <td>0.524876</td>\n",
       "      <td>0.279890</td>\n",
       "      <td>0.550705</td>\n",
       "      <td>0.590629</td>\n",
       "      <td>1.0</td>\n",
       "      <td>0</td>\n",
       "    </tr>\n",
       "    <tr>\n",
       "      <th>1</th>\n",
       "      <td>0.589321</td>\n",
       "      <td>0.560484</td>\n",
       "      <td>0.334852</td>\n",
       "      <td>0.252271</td>\n",
       "      <td>0.062301</td>\n",
       "      <td>0.661629</td>\n",
       "      <td>0.171097</td>\n",
       "      <td>1.0</td>\n",
       "      <td>1</td>\n",
       "    </tr>\n",
       "    <tr>\n",
       "      <th>2</th>\n",
       "      <td>0.931300</td>\n",
       "      <td>0.010313</td>\n",
       "      <td>0.805909</td>\n",
       "      <td>0.463882</td>\n",
       "      <td>0.528435</td>\n",
       "      <td>0.185917</td>\n",
       "      <td>0.952389</td>\n",
       "      <td>1.0</td>\n",
       "      <td>2</td>\n",
       "    </tr>\n",
       "    <tr>\n",
       "      <th>3</th>\n",
       "      <td>0.034193</td>\n",
       "      <td>0.262676</td>\n",
       "      <td>0.107053</td>\n",
       "      <td>0.625528</td>\n",
       "      <td>0.284038</td>\n",
       "      <td>0.019462</td>\n",
       "      <td>0.777401</td>\n",
       "      <td>1.0</td>\n",
       "      <td>3</td>\n",
       "    </tr>\n",
       "    <tr>\n",
       "      <th>4</th>\n",
       "      <td>0.821443</td>\n",
       "      <td>0.324785</td>\n",
       "      <td>0.877585</td>\n",
       "      <td>0.378755</td>\n",
       "      <td>0.100237</td>\n",
       "      <td>0.715653</td>\n",
       "      <td>0.312279</td>\n",
       "      <td>1.0</td>\n",
       "      <td>4</td>\n",
       "    </tr>\n",
       "    <tr>\n",
       "      <th>5</th>\n",
       "      <td>0.896011</td>\n",
       "      <td>0.914095</td>\n",
       "      <td>0.521667</td>\n",
       "      <td>0.269290</td>\n",
       "      <td>0.850893</td>\n",
       "      <td>0.287130</td>\n",
       "      <td>0.284443</td>\n",
       "      <td>1.0</td>\n",
       "      <td>5</td>\n",
       "    </tr>\n",
       "    <tr>\n",
       "      <th>6</th>\n",
       "      <td>0.442959</td>\n",
       "      <td>0.176490</td>\n",
       "      <td>0.725884</td>\n",
       "      <td>0.371860</td>\n",
       "      <td>0.376378</td>\n",
       "      <td>0.143646</td>\n",
       "      <td>0.297482</td>\n",
       "      <td>1.0</td>\n",
       "      <td>6</td>\n",
       "    </tr>\n",
       "    <tr>\n",
       "      <th>7</th>\n",
       "      <td>0.928692</td>\n",
       "      <td>0.376942</td>\n",
       "      <td>0.620410</td>\n",
       "      <td>0.233260</td>\n",
       "      <td>0.776084</td>\n",
       "      <td>0.107772</td>\n",
       "      <td>0.848727</td>\n",
       "      <td>1.0</td>\n",
       "      <td>7</td>\n",
       "    </tr>\n",
       "    <tr>\n",
       "      <th>8</th>\n",
       "      <td>0.756704</td>\n",
       "      <td>0.409042</td>\n",
       "      <td>0.084156</td>\n",
       "      <td>0.631411</td>\n",
       "      <td>0.654721</td>\n",
       "      <td>0.866888</td>\n",
       "      <td>0.232316</td>\n",
       "      <td>1.0</td>\n",
       "      <td>8</td>\n",
       "    </tr>\n",
       "    <tr>\n",
       "      <th>9</th>\n",
       "      <td>0.352147</td>\n",
       "      <td>0.485467</td>\n",
       "      <td>0.671812</td>\n",
       "      <td>0.257510</td>\n",
       "      <td>0.542769</td>\n",
       "      <td>0.266943</td>\n",
       "      <td>0.734985</td>\n",
       "      <td>1.0</td>\n",
       "      <td>9</td>\n",
       "    </tr>\n",
       "  </tbody>\n",
       "</table>\n",
       "</div>"
      ],
      "text/plain": [
       "         X1        X2        X3        X4        X5        y1        y2    w  \\\n",
       "0  0.174700  0.263876  0.648366  0.524876  0.279890  0.550705  0.590629  1.0   \n",
       "1  0.589321  0.560484  0.334852  0.252271  0.062301  0.661629  0.171097  1.0   \n",
       "2  0.931300  0.010313  0.805909  0.463882  0.528435  0.185917  0.952389  1.0   \n",
       "3  0.034193  0.262676  0.107053  0.625528  0.284038  0.019462  0.777401  1.0   \n",
       "4  0.821443  0.324785  0.877585  0.378755  0.100237  0.715653  0.312279  1.0   \n",
       "5  0.896011  0.914095  0.521667  0.269290  0.850893  0.287130  0.284443  1.0   \n",
       "6  0.442959  0.176490  0.725884  0.371860  0.376378  0.143646  0.297482  1.0   \n",
       "7  0.928692  0.376942  0.620410  0.233260  0.776084  0.107772  0.848727  1.0   \n",
       "8  0.756704  0.409042  0.084156  0.631411  0.654721  0.866888  0.232316  1.0   \n",
       "9  0.352147  0.485467  0.671812  0.257510  0.542769  0.266943  0.734985  1.0   \n",
       "\n",
       "  ids  \n",
       "0   0  \n",
       "1   1  \n",
       "2   2  \n",
       "3   3  \n",
       "4   4  \n",
       "5   5  \n",
       "6   6  \n",
       "7   7  \n",
       "8   8  \n",
       "9   9  "
      ]
     },
     "execution_count": 9,
     "metadata": {},
     "output_type": "execute_result"
    }
   ],
   "source": [
    "dataset.to_dataframe()"
   ]
  },
  {
   "cell_type": "markdown",
   "metadata": {},
   "source": [
    "如何创建 DiskDataset ？ 如果数据在NumPy数组中，可以调用 `DiskDataset.from_numpy()` 将其保存到硬盘中。由于这只是一个教程，我们将把它保存到一个临时目录。"
   ]
  },
  {
   "cell_type": "code",
   "execution_count": 10,
   "metadata": {},
   "outputs": [
    {
     "name": "stdout",
     "output_type": "stream",
     "text": [
      "<DiskDataset X.shape: (10, 5), y.shape: (10, 2), w.shape: (10, 1), ids: [0 1 2 3 4 5 6 7 8 9], task_names: [0 1]>\n"
     ]
    }
   ],
   "source": [
    "import tempfile\n",
    "\n",
    "with tempfile.TemporaryDirectory() as data_dir:\n",
    "    disk_dataset = dc.data.DiskDataset.from_numpy(X=X, y=y, data_dir=data_dir)\n",
    "    print(disk_dataset)"
   ]
  },
  {
   "cell_type": "markdown",
   "metadata": {},
   "source": [
    "内存无法容纳的大型数据集怎么办?如果你在硬盘上有一些包含数以亿计分子数据的巨大文件呢?从它们创建 DiskDataset 的过程稍微复杂一些。幸运的是，DeepChem的 `DataLoader` 框架可以为你自动完成大部分工作。这是一个大的主题，所以我们将在后面的教程中讨论。"
   ]
  },
  {
   "cell_type": "markdown",
   "metadata": {
    "colab_type": "text",
    "id": "MhZxVoVs5zMa"
   },
   "source": [
    "# Congratulations! Time to join the Community!\n",
    "\n",
    "Congratulations on completing this tutorial notebook! If you enjoyed working through the tutorial, and want to continue working with DeepChem, we encourage you to finish the rest of the tutorials in this series. You can also help the DeepChem community in the following ways:\n",
    "\n",
    "## Star DeepChem on [GitHub](https://github.com/deepchem/deepchem)\n",
    "This helps build awareness of the DeepChem project and the tools for open source drug discovery that we're trying to build.\n",
    "\n",
    "## Join the DeepChem Gitter\n",
    "The DeepChem [Gitter](https://gitter.im/deepchem/Lobby) hosts a number of scientists, developers, and enthusiasts interested in deep learning for the life sciences. Join the conversation!"
   ]
  }
 ],
 "metadata": {
  "colab": {
   "name": "01_The_Basic_Tools_of_the_Deep_Life_Sciences.ipynb",
   "provenance": []
  },
  "kernelspec": {
   "display_name": "Python 3.9.13 64-bit",
   "language": "python",
   "name": "python3"
  },
  "language_info": {
   "codemirror_mode": {
    "name": "ipython",
    "version": 3
   },
   "file_extension": ".py",
   "mimetype": "text/x-python",
   "name": "python",
   "nbconvert_exporter": "python",
   "pygments_lexer": "ipython3",
   "version": "3.9.13"
  },
  "vscode": {
   "interpreter": {
    "hash": "f7976576504ac6c456dadd405d7477574ca2a64265ee4724cfbc25daae5f6d94"
   }
  }
 },
 "nbformat": 4,
 "nbformat_minor": 1
}
